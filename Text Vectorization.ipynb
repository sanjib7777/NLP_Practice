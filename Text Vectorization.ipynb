{
 "cells": [
  {
   "cell_type": "markdown",
   "id": "4cfc29c5-b2b3-4970-9a84-734bc52d2e5e",
   "metadata": {},
   "source": [
    "## Bag of Words"
   ]
  },
  {
   "cell_type": "code",
   "execution_count": 6,
   "id": "69b0df2a-c311-4c23-bad4-27f1a26380c1",
   "metadata": {},
   "outputs": [
    {
     "name": "stdout",
     "output_type": "stream",
     "text": [
      "['bird' 'cat' 'dog' 'hat' 'house' 'in' 'sky' 'the']\n",
      "[[0 1 0 1 0 1 0 2]\n",
      " [0 0 1 0 1 1 0 2]\n",
      " [1 0 0 0 0 1 1 2]]\n"
     ]
    }
   ],
   "source": [
    "from sklearn.feature_extraction.text import CountVectorizer\n",
    "# Sample sentences\n",
    "sentences = [\"The cat in the hat\", \n",
    "\"The dog in the house\", \"The bird in the sky\"]\n",
    "# Create a CountVectorizer object\n",
    "vectorizer = CountVectorizer()\n",
    "# Use the fit_transform method to transform the sentences into a bag of words\n",
    "bow = vectorizer.fit_transform(sentences)\n",
    "# Print the vocabulary (features) of the bag of words\n",
    "print(vectorizer.get_feature_names_out())\n",
    "# Print the bag of words\n",
    "print(bow.toarray())"
   ]
  },
  {
   "cell_type": "code",
   "execution_count": 2,
   "id": "91413645-0c17-4921-ac65-216c74ef8e41",
   "metadata": {},
   "outputs": [
    {
     "name": "stdout",
     "output_type": "stream",
     "text": [
      "['bird' 'cat' 'flying' 'in' 'jumped' 'roared' 'sky' 'the' 'tiger' 'white']\n",
      "[[0.         0.65249088 0.         0.         0.65249088 0.\n",
      "  0.         0.38537163 0.         0.        ]\n",
      " [0.         0.         0.         0.         0.         0.54645401\n",
      "  0.         0.32274454 0.54645401 0.54645401]\n",
      " [0.47952794 0.         0.47952794 0.47952794 0.         0.\n",
      "  0.47952794 0.28321692 0.         0.        ]]\n"
     ]
    }
   ],
   "source": [
    "from sklearn.feature_extraction.text import TfidfVectorizer\n",
    "# Example documents\n",
    "docs = [\"The cat jumped\",\n",
    "        \"The white tiger roared\",\n",
    "        \"Bird flying in the sky\"]  \n",
    "# Create a TfidfVectorizer object\n",
    "vectorizer = TfidfVectorizer()\n",
    "# Use the fit_transform method to transform the documents into a TF-IDF matrix\n",
    "tfidf = vectorizer.fit_transform(docs)\n",
    "# Print the vocabulary (features) of the TF-IDF matrix\n",
    "print(vectorizer.get_feature_names_out())\n",
    "# Print the TF-IDF matrix\n",
    "print(tfidf.toarray())"
   ]
  },
  {
   "cell_type": "code",
   "execution_count": null,
   "id": "eb693153-8281-49a7-8928-02dc8b35c7ea",
   "metadata": {},
   "outputs": [],
   "source": []
  }
 ],
 "metadata": {
  "kernelspec": {
   "display_name": "Python 3 (ipykernel)",
   "language": "python",
   "name": "python3"
  },
  "language_info": {
   "codemirror_mode": {
    "name": "ipython",
    "version": 3
   },
   "file_extension": ".py",
   "mimetype": "text/x-python",
   "name": "python",
   "nbconvert_exporter": "python",
   "pygments_lexer": "ipython3",
   "version": "3.12.6"
  }
 },
 "nbformat": 4,
 "nbformat_minor": 5
}
