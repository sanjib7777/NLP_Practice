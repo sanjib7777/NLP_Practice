{
 "cells": [
  {
   "cell_type": "code",
   "execution_count": 1,
   "id": "b1fb2466-b783-424d-a463-92633c88db0e",
   "metadata": {},
   "outputs": [],
   "source": [
    "import numpy as np\n",
    "import pandas as pd"
   ]
  },
  {
   "cell_type": "code",
   "execution_count": 2,
   "id": "40b1a237-6075-476a-b7d4-1482857e2555",
   "metadata": {},
   "outputs": [
    {
     "name": "stdout",
     "output_type": "stream",
     "text": [
      "Requirement already satisfied: gensim in c:\\users\\acer\\appdata\\local\\programs\\python\\python312\\lib\\site-packages (4.3.3)\n",
      "Requirement already satisfied: numpy<2.0,>=1.18.5 in c:\\users\\acer\\appdata\\local\\programs\\python\\python312\\lib\\site-packages (from gensim) (1.26.4)\n",
      "Requirement already satisfied: scipy<1.14.0,>=1.7.0 in c:\\users\\acer\\appdata\\local\\programs\\python\\python312\\lib\\site-packages (from gensim) (1.13.1)\n",
      "Requirement already satisfied: smart-open>=1.8.1 in c:\\users\\acer\\appdata\\local\\programs\\python\\python312\\lib\\site-packages (from gensim) (7.1.0)\n",
      "Requirement already satisfied: wrapt in c:\\users\\acer\\appdata\\local\\programs\\python\\python312\\lib\\site-packages (from smart-open>=1.8.1->gensim) (1.17.0)\n"
     ]
    },
    {
     "name": "stderr",
     "output_type": "stream",
     "text": [
      "\n",
      "[notice] A new release of pip is available: 24.3.1 -> 25.1.1\n",
      "[notice] To update, run: python.exe -m pip install --upgrade pip\n"
     ]
    }
   ],
   "source": [
    "!pip install gensim"
   ]
  },
  {
   "cell_type": "code",
   "execution_count": 3,
   "id": "caefee20-9ad7-479c-9e12-5dfb96246f45",
   "metadata": {},
   "outputs": [],
   "source": [
    "import gensim\n",
    "import os"
   ]
  },
  {
   "cell_type": "code",
   "execution_count": 4,
   "id": "61d627f0-c352-48b3-af2a-beb2b09ac005",
   "metadata": {},
   "outputs": [],
   "source": [
    "from nltk import sent_tokenize\n",
    "from gensim.utils import simple_preprocess"
   ]
  },
  {
   "cell_type": "code",
   "execution_count": 5,
   "id": "a5376dcf-70aa-4c83-be86-8c2d71c2e936",
   "metadata": {},
   "outputs": [
    {
     "name": "stderr",
     "output_type": "stream",
     "text": [
      "[nltk_data] Downloading package punkt to\n",
      "[nltk_data]     C:\\Users\\ACER\\AppData\\Roaming\\nltk_data...\n",
      "[nltk_data]   Package punkt is already up-to-date!\n"
     ]
    },
    {
     "data": {
      "text/plain": [
       "True"
      ]
     },
     "execution_count": 5,
     "metadata": {},
     "output_type": "execute_result"
    }
   ],
   "source": [
    "import nltk\n",
    "nltk.download('punkt')\n"
   ]
  },
  {
   "cell_type": "code",
   "execution_count": 6,
   "id": "e34b7c78-6e39-41ee-bb00-fd94b743f773",
   "metadata": {},
   "outputs": [
    {
     "name": "stderr",
     "output_type": "stream",
     "text": [
      "[nltk_data] Downloading package punkt_tab to\n",
      "[nltk_data]     C:\\Users\\ACER\\AppData\\Roaming\\nltk_data...\n",
      "[nltk_data]   Package punkt_tab is already up-to-date!\n"
     ]
    },
    {
     "data": {
      "text/plain": [
       "True"
      ]
     },
     "execution_count": 6,
     "metadata": {},
     "output_type": "execute_result"
    }
   ],
   "source": [
    "import nltk\n",
    "nltk.download('punkt_tab')"
   ]
  },
  {
   "cell_type": "code",
   "execution_count": 7,
   "id": "3adb4b42-19be-458d-b6f5-8120c5d0b7c2",
   "metadata": {},
   "outputs": [],
   "source": [
    "story = []\n",
    "for filename in os.listdir('game of thrones'):\n",
    "  f = open(os.path.join('game of thrones',filename), encoding='utf-8', errors='replace')\n",
    "  corpus = f.read()\n",
    "  raw_sent = sent_tokenize(corpus)\n",
    "  for sent in raw_sent:\n",
    "    story.append(simple_preprocess(sent))"
   ]
  },
  {
   "cell_type": "code",
   "execution_count": 8,
   "id": "fba58a9e-ac26-4019-abdc-6e2bb69c625b",
   "metadata": {},
   "outputs": [
    {
     "data": {
      "text/plain": [
       "145020"
      ]
     },
     "execution_count": 8,
     "metadata": {},
     "output_type": "execute_result"
    }
   ],
   "source": [
    "len(story)"
   ]
  },
  {
   "cell_type": "code",
   "execution_count": 9,
   "id": "ab767639-053f-48cf-98ff-5f8f75f5fada",
   "metadata": {},
   "outputs": [
    {
     "data": {
      "text/plain": [
       "145020"
      ]
     },
     "execution_count": 9,
     "metadata": {},
     "output_type": "execute_result"
    }
   ],
   "source": [
    "len(story)"
   ]
  },
  {
   "cell_type": "code",
   "execution_count": 10,
   "id": "3417dc95-ee98-4c42-b71e-eb4df8a18bd8",
   "metadata": {},
   "outputs": [],
   "source": [
    "model = gensim.models.Word2Vec(   \n",
    "    window = 10,\n",
    "    min_count = 2\n",
    ")"
   ]
  },
  {
   "cell_type": "code",
   "execution_count": 11,
   "id": "e67c6439-42b2-4c5a-b4bd-6369f9a68779",
   "metadata": {},
   "outputs": [],
   "source": [
    "model.build_vocab(story)"
   ]
  },
  {
   "cell_type": "code",
   "execution_count": 12,
   "id": "de4eccc1-dfee-4688-bf16-eb8bdc9287fa",
   "metadata": {},
   "outputs": [
    {
     "data": {
      "text/plain": [
       "(6568894, 8628145)"
      ]
     },
     "execution_count": 12,
     "metadata": {},
     "output_type": "execute_result"
    }
   ],
   "source": [
    "model.train(story, total_examples = model.corpus_count, epochs = model.epochs)"
   ]
  },
  {
   "cell_type": "code",
   "execution_count": 13,
   "id": "e6f5fffc-e2de-4045-92a9-f9f815491871",
   "metadata": {},
   "outputs": [
    {
     "data": {
      "text/plain": [
       "[('princess', 0.7471879720687866),\n",
       " ('margaery', 0.7353886365890503),\n",
       " ('daenerys', 0.7268530130386353),\n",
       " ('prince', 0.6937981247901917),\n",
       " ('myrcella', 0.6642243266105652),\n",
       " ('joffrey', 0.6422043442726135),\n",
       " ('elia', 0.6322400569915771),\n",
       " ('mother', 0.6314845681190491),\n",
       " ('cersei', 0.6288760900497437),\n",
       " ('viserys', 0.6243241429328918)]"
      ]
     },
     "execution_count": 13,
     "metadata": {},
     "output_type": "execute_result"
    }
   ],
   "source": [
    "model.wv.most_similar('queen')"
   ]
  },
  {
   "cell_type": "code",
   "execution_count": 14,
   "id": "dacd50dd-12f7-459f-bad4-e7f9438d6034",
   "metadata": {},
   "outputs": [
    {
     "data": {
      "text/plain": [
       "(17453, 100)"
      ]
     },
     "execution_count": 14,
     "metadata": {},
     "output_type": "execute_result"
    }
   ],
   "source": [
    "model.wv.get_normed_vectors().shape"
   ]
  },
  {
   "cell_type": "code",
   "execution_count": 15,
   "id": "e5727528-6f16-4780-91b6-dc208445593f",
   "metadata": {},
   "outputs": [
    {
     "data": {
      "text/plain": [
       "17453"
      ]
     },
     "execution_count": 15,
     "metadata": {},
     "output_type": "execute_result"
    }
   ],
   "source": [
    "y = model.wv.index_to_key\n",
    "len(y)"
   ]
  },
  {
   "cell_type": "code",
   "execution_count": 16,
   "id": "8f0cccef-bdd6-4389-8b82-253e5f29c895",
   "metadata": {},
   "outputs": [],
   "source": [
    "from sklearn.decomposition import PCA"
   ]
  },
  {
   "cell_type": "code",
   "execution_count": 17,
   "id": "6bcfeeb8-4b7d-4310-97bd-40561ac2f6ea",
   "metadata": {},
   "outputs": [],
   "source": [
    "pca = PCA(n_components=3)"
   ]
  },
  {
   "cell_type": "code",
   "execution_count": 18,
   "id": "387d5894-efde-4fd0-a00b-0175daad5707",
   "metadata": {},
   "outputs": [],
   "source": [
    "X = pca.fit_transform(model.wv.get_normed_vectors())"
   ]
  },
  {
   "cell_type": "code",
   "execution_count": 19,
   "id": "4686b425-477b-4347-beaf-c2ddece4e62e",
   "metadata": {},
   "outputs": [
    {
     "data": {
      "text/plain": [
       "array([0.19012842, 0.3285709 , 0.03902888], dtype=float32)"
      ]
     },
     "execution_count": 19,
     "metadata": {},
     "output_type": "execute_result"
    }
   ],
   "source": [
    "X[1]"
   ]
  },
  {
   "cell_type": "code",
   "execution_count": 20,
   "id": "f8f7b96f-f516-4ae5-bc6e-0214bbd732b8",
   "metadata": {},
   "outputs": [
    {
     "name": "stdout",
     "output_type": "stream",
     "text": [
      "Requirement already satisfied: plotly in c:\\users\\acer\\appdata\\local\\programs\\python\\python312\\lib\\site-packages (6.1.1)\n",
      "Requirement already satisfied: narwhals>=1.15.1 in c:\\users\\acer\\appdata\\local\\programs\\python\\python312\\lib\\site-packages (from plotly) (1.17.0)\n",
      "Requirement already satisfied: packaging in c:\\users\\acer\\appdata\\local\\programs\\python\\python312\\lib\\site-packages (from plotly) (24.1)\n",
      "Note: you may need to restart the kernel to use updated packages.\n"
     ]
    },
    {
     "name": "stderr",
     "output_type": "stream",
     "text": [
      "\n",
      "[notice] A new release of pip is available: 24.3.1 -> 25.1.1\n",
      "[notice] To update, run: python.exe -m pip install --upgrade pip\n"
     ]
    }
   ],
   "source": [
    "pip install plotly"
   ]
  },
  {
   "cell_type": "code",
   "execution_count": 21,
   "id": "1e284470-9cc5-46d6-98b4-1a0c526d0928",
   "metadata": {},
   "outputs": [
    {
     "data": {
      "application/vnd.plotly.v1+json": {
       "config": {
        "plotlyServerURL": "https://plot.ly"
       },
       "data": [
        {
         "hovertemplate": "color=the<br>0=%{x}<br>1=%{y}<br>2=%{z}<extra></extra>",
         "legendgroup": "the",
         "marker": {
          "color": "#636efa",
          "symbol": "circle"
         },
         "mode": "markers",
         "name": "the",
         "scene": "scene",
         "showlegend": true,
         "type": "scatter3d",
         "x": {
          "_inputArray": {
           "0": 0.15190568566322327,
           "bdata": "Ko0bPg==",
           "dtype": "f4",
           "shape": "1"
          },
          "bdata": "Ko0bPg==",
          "dtype": "f4"
         },
         "y": {
          "_inputArray": {
           "0": 0.5960397720336914,
           "bdata": "EJYYPw==",
           "dtype": "f4",
           "shape": "1"
          },
          "bdata": "EJYYPw==",
          "dtype": "f4"
         },
         "z": {
          "_inputArray": {
           "0": -0.06162245571613312,
           "bdata": "1Gd8vQ==",
           "dtype": "f4",
           "shape": "1"
          },
          "bdata": "1Gd8vQ==",
          "dtype": "f4"
         }
        },
        {
         "hovertemplate": "color=and<br>0=%{x}<br>1=%{y}<br>2=%{z}<extra></extra>",
         "legendgroup": "and",
         "marker": {
          "color": "#EF553B",
          "symbol": "circle"
         },
         "mode": "markers",
         "name": "and",
         "scene": "scene",
         "showlegend": true,
         "type": "scatter3d",
         "x": {
          "_inputArray": {
           "0": 0.1901284158229828,
           "bdata": "BrFCPg==",
           "dtype": "f4",
           "shape": "1"
          },
          "bdata": "BrFCPg==",
          "dtype": "f4"
         },
         "y": {
          "_inputArray": {
           "0": 0.3285709023475647,
           "bdata": "cjqoPg==",
           "dtype": "f4",
           "shape": "1"
          },
          "bdata": "cjqoPg==",
          "dtype": "f4"
         },
         "z": {
          "_inputArray": {
           "0": 0.03902888298034668,
           "bdata": "wNwfPQ==",
           "dtype": "f4",
           "shape": "1"
          },
          "bdata": "wNwfPQ==",
          "dtype": "f4"
         }
        },
        {
         "hovertemplate": "color=to<br>0=%{x}<br>1=%{y}<br>2=%{z}<extra></extra>",
         "legendgroup": "to",
         "marker": {
          "color": "#00cc96",
          "symbol": "circle"
         },
         "mode": "markers",
         "name": "to",
         "scene": "scene",
         "showlegend": true,
         "type": "scatter3d",
         "x": {
          "_inputArray": {
           "0": -0.2839605212211609,
           "bdata": "RmORvg==",
           "dtype": "f4",
           "shape": "1"
          },
          "bdata": "RmORvg==",
          "dtype": "f4"
         },
         "y": {
          "_inputArray": {
           "0": 0.5739344954490662,
           "bdata": "X+0SPw==",
           "dtype": "f4",
           "shape": "1"
          },
          "bdata": "X+0SPw==",
          "dtype": "f4"
         },
         "z": {
          "_inputArray": {
           "0": 0.22275769710540771,
           "bdata": "mBpkPg==",
           "dtype": "f4",
           "shape": "1"
          },
          "bdata": "mBpkPg==",
          "dtype": "f4"
         }
        },
        {
         "hovertemplate": "color=of<br>0=%{x}<br>1=%{y}<br>2=%{z}<extra></extra>",
         "legendgroup": "of",
         "marker": {
          "color": "#ab63fa",
          "symbol": "circle"
         },
         "mode": "markers",
         "name": "of",
         "scene": "scene",
         "showlegend": true,
         "type": "scatter3d",
         "x": {
          "_inputArray": {
           "0": 0.007194727659225464,
           "bdata": "wMHrOw==",
           "dtype": "f4",
           "shape": "1"
          },
          "bdata": "wMHrOw==",
          "dtype": "f4"
         },
         "y": {
          "_inputArray": {
           "0": 0.37375009059906006,
           "bdata": "LFy/Pg==",
           "dtype": "f4",
           "shape": "1"
          },
          "bdata": "LFy/Pg==",
          "dtype": "f4"
         },
         "z": {
          "_inputArray": {
           "0": -0.13252751529216766,
           "bdata": "S7UHvg==",
           "dtype": "f4",
           "shape": "1"
          },
          "bdata": "S7UHvg==",
          "dtype": "f4"
         }
        },
        {
         "hovertemplate": "color=he<br>0=%{x}<br>1=%{y}<br>2=%{z}<extra></extra>",
         "legendgroup": "he",
         "marker": {
          "color": "#FFA15A",
          "symbol": "circle"
         },
         "mode": "markers",
         "name": "he",
         "scene": "scene",
         "showlegend": true,
         "type": "scatter3d",
         "x": {
          "_inputArray": {
           "0": -0.10773365199565887,
           "bdata": "dqPcvQ==",
           "dtype": "f4",
           "shape": "1"
          },
          "bdata": "dqPcvQ==",
          "dtype": "f4"
         },
         "y": {
          "_inputArray": {
           "0": 0.5479838848114014,
           "bdata": "rEgMPw==",
           "dtype": "f4",
           "shape": "1"
          },
          "bdata": "rEgMPw==",
          "dtype": "f4"
         },
         "z": {
          "_inputArray": {
           "0": 0.277195543050766,
           "bdata": "k+yNPg==",
           "dtype": "f4",
           "shape": "1"
          },
          "bdata": "k+yNPg==",
          "dtype": "f4"
         }
        },
        {
         "hovertemplate": "color=his<br>0=%{x}<br>1=%{y}<br>2=%{z}<extra></extra>",
         "legendgroup": "his",
         "marker": {
          "color": "#19d3f3",
          "symbol": "circle"
         },
         "mode": "markers",
         "name": "his",
         "scene": "scene",
         "showlegend": true,
         "type": "scatter3d",
         "x": {
          "_inputArray": {
           "0": 0.040072962641716,
           "bdata": "jCMkPQ==",
           "dtype": "f4",
           "shape": "1"
          },
          "bdata": "jCMkPQ==",
          "dtype": "f4"
         },
         "y": {
          "_inputArray": {
           "0": 0.29824408888816833,
           "bdata": "c7OYPg==",
           "dtype": "f4",
           "shape": "1"
          },
          "bdata": "c7OYPg==",
          "dtype": "f4"
         },
         "z": {
          "_inputArray": {
           "0": 0.32145392894744873,
           "bdata": "nJWkPg==",
           "dtype": "f4",
           "shape": "1"
          },
          "bdata": "nJWkPg==",
          "dtype": "f4"
         }
        },
        {
         "hovertemplate": "color=was<br>0=%{x}<br>1=%{y}<br>2=%{z}<extra></extra>",
         "legendgroup": "was",
         "marker": {
          "color": "#FF6692",
          "symbol": "circle"
         },
         "mode": "markers",
         "name": "was",
         "scene": "scene",
         "showlegend": true,
         "type": "scatter3d",
         "x": {
          "_inputArray": {
           "0": -0.10149354487657547,
           "bdata": "2dvPvQ==",
           "dtype": "f4",
           "shape": "1"
          },
          "bdata": "2dvPvQ==",
          "dtype": "f4"
         },
         "y": {
          "_inputArray": {
           "0": 0.40676167607307434,
           "bdata": "EUPQPg==",
           "dtype": "f4",
           "shape": "1"
          },
          "bdata": "EUPQPg==",
          "dtype": "f4"
         },
         "z": {
          "_inputArray": {
           "0": 0.29549095034599304,
           "bdata": "l0qXPg==",
           "dtype": "f4",
           "shape": "1"
          },
          "bdata": "l0qXPg==",
          "dtype": "f4"
         }
        },
        {
         "hovertemplate": "color=you<br>0=%{x}<br>1=%{y}<br>2=%{z}<extra></extra>",
         "legendgroup": "you",
         "marker": {
          "color": "#B6E880",
          "symbol": "circle"
         },
         "mode": "markers",
         "name": "you",
         "scene": "scene",
         "showlegend": true,
         "type": "scatter3d",
         "x": {
          "_inputArray": {
           "0": -0.5355724096298218,
           "bdata": "RhsJvw==",
           "dtype": "f4",
           "shape": "1"
          },
          "bdata": "RhsJvw==",
          "dtype": "f4"
         },
         "y": {
          "_inputArray": {
           "0": 0.6163932681083679,
           "bdata": "88sdPw==",
           "dtype": "f4",
           "shape": "1"
          },
          "bdata": "88sdPw==",
          "dtype": "f4"
         },
         "z": {
          "_inputArray": {
           "0": 0.16261571645736694,
           "bdata": "vIQmPg==",
           "dtype": "f4",
           "shape": "1"
          },
          "bdata": "vIQmPg==",
          "dtype": "f4"
         }
        },
        {
         "hovertemplate": "color=her<br>0=%{x}<br>1=%{y}<br>2=%{z}<extra></extra>",
         "legendgroup": "her",
         "marker": {
          "color": "#FF97FF",
          "symbol": "circle"
         },
         "mode": "markers",
         "name": "her",
         "scene": "scene",
         "showlegend": true,
         "type": "scatter3d",
         "x": {
          "_inputArray": {
           "0": 0.005743101239204407,
           "bdata": "oDC8Ow==",
           "dtype": "f4",
           "shape": "1"
          },
          "bdata": "oDC8Ow==",
          "dtype": "f4"
         },
         "y": {
          "_inputArray": {
           "0": 0.3810921907424927,
           "bdata": "hB7DPg==",
           "dtype": "f4",
           "shape": "1"
          },
          "bdata": "hB7DPg==",
          "dtype": "f4"
         },
         "z": {
          "_inputArray": {
           "0": 0.3450300693511963,
           "bdata": "yKewPg==",
           "dtype": "f4",
           "shape": "1"
          },
          "bdata": "yKewPg==",
          "dtype": "f4"
         }
        },
        {
         "hovertemplate": "color=in<br>0=%{x}<br>1=%{y}<br>2=%{z}<extra></extra>",
         "legendgroup": "in",
         "marker": {
          "color": "#FECB52",
          "symbol": "circle"
         },
         "mode": "markers",
         "name": "in",
         "scene": "scene",
         "showlegend": true,
         "type": "scatter3d",
         "x": {
          "_inputArray": {
           "0": 0.09997197985649109,
           "bdata": "HL7MPQ==",
           "dtype": "f4",
           "shape": "1"
          },
          "bdata": "HL7MPQ==",
          "dtype": "f4"
         },
         "y": {
          "_inputArray": {
           "0": 0.44272103905677795,
           "bdata": "VaziPg==",
           "dtype": "f4",
           "shape": "1"
          },
          "bdata": "VaziPg==",
          "dtype": "f4"
         },
         "z": {
          "_inputArray": {
           "0": 0.07837249338626862,
           "bdata": "woGgPQ==",
           "dtype": "f4",
           "shape": "1"
          },
          "bdata": "woGgPQ==",
          "dtype": "f4"
         }
        },
        {
         "hovertemplate": "color=it<br>0=%{x}<br>1=%{y}<br>2=%{z}<extra></extra>",
         "legendgroup": "it",
         "marker": {
          "color": "#636efa",
          "symbol": "circle"
         },
         "mode": "markers",
         "name": "it",
         "scene": "scene",
         "showlegend": true,
         "type": "scatter3d",
         "x": {
          "_inputArray": {
           "0": -0.08262813836336136,
           "bdata": "8TipvQ==",
           "dtype": "f4",
           "shape": "1"
          },
          "bdata": "8TipvQ==",
          "dtype": "f4"
         },
         "y": {
          "_inputArray": {
           "0": 0.6208937764167786,
           "bdata": "5fIePw==",
           "dtype": "f4",
           "shape": "1"
          },
          "bdata": "5fIePw==",
          "dtype": "f4"
         },
         "z": {
          "_inputArray": {
           "0": 0.26574134826660156,
           "bdata": "QA+IPg==",
           "dtype": "f4",
           "shape": "1"
          },
          "bdata": "QA+IPg==",
          "dtype": "f4"
         }
        },
        {
         "hovertemplate": "color=had<br>0=%{x}<br>1=%{y}<br>2=%{z}<extra></extra>",
         "legendgroup": "had",
         "marker": {
          "color": "#EF553B",
          "symbol": "circle"
         },
         "mode": "markers",
         "name": "had",
         "scene": "scene",
         "showlegend": true,
         "type": "scatter3d",
         "x": {
          "_inputArray": {
           "0": -0.1426960676908493,
           "bdata": "6x4Svg==",
           "dtype": "f4",
           "shape": "1"
          },
          "bdata": "6x4Svg==",
          "dtype": "f4"
         },
         "y": {
          "_inputArray": {
           "0": 0.519378125667572,
           "bdata": "9/UEPw==",
           "dtype": "f4",
           "shape": "1"
          },
          "bdata": "9/UEPw==",
          "dtype": "f4"
         },
         "z": {
          "_inputArray": {
           "0": 0.14945946633815765,
           "bdata": "5wsZPg==",
           "dtype": "f4",
           "shape": "1"
          },
          "bdata": "5wsZPg==",
          "dtype": "f4"
         }
        },
        {
         "hovertemplate": "color=that<br>0=%{x}<br>1=%{y}<br>2=%{z}<extra></extra>",
         "legendgroup": "that",
         "marker": {
          "color": "#00cc96",
          "symbol": "circle"
         },
         "mode": "markers",
         "name": "that",
         "scene": "scene",
         "showlegend": true,
         "type": "scatter3d",
         "x": {
          "_inputArray": {
           "0": -0.31224238872528076,
           "bdata": "PN6fvg==",
           "dtype": "f4",
           "shape": "1"
          },
          "bdata": "PN6fvg==",
          "dtype": "f4"
         },
         "y": {
          "_inputArray": {
           "0": 0.5978338718414307,
           "bdata": "pAsZPw==",
           "dtype": "f4",
           "shape": "1"
          },
          "bdata": "pAsZPw==",
          "dtype": "f4"
         },
         "z": {
          "_inputArray": {
           "0": 0.10111275315284729,
           "bdata": "NBTPPQ==",
           "dtype": "f4",
           "shape": "1"
          },
          "bdata": "NBTPPQ==",
          "dtype": "f4"
         }
        },
        {
         "hovertemplate": "color=she<br>0=%{x}<br>1=%{y}<br>2=%{z}<extra></extra>",
         "legendgroup": "she",
         "marker": {
          "color": "#ab63fa",
          "symbol": "circle"
         },
         "mode": "markers",
         "name": "she",
         "scene": "scene",
         "showlegend": true,
         "type": "scatter3d",
         "x": {
          "_inputArray": {
           "0": -0.07053425908088684,
           "bdata": "RHSQvQ==",
           "dtype": "f4",
           "shape": "1"
          },
          "bdata": "RHSQvQ==",
          "dtype": "f4"
         },
         "y": {
          "_inputArray": {
           "0": 0.5133742094039917,
           "bdata": "fmwDPw==",
           "dtype": "f4",
           "shape": "1"
          },
          "bdata": "fmwDPw==",
          "dtype": "f4"
         },
         "z": {
          "_inputArray": {
           "0": 0.30838334560394287,
           "bdata": "bOSdPg==",
           "dtype": "f4",
           "shape": "1"
          },
          "bdata": "bOSdPg==",
          "dtype": "f4"
         }
        },
        {
         "hovertemplate": "color=as<br>0=%{x}<br>1=%{y}<br>2=%{z}<extra></extra>",
         "legendgroup": "as",
         "marker": {
          "color": "#FFA15A",
          "symbol": "circle"
         },
         "mode": "markers",
         "name": "as",
         "scene": "scene",
         "showlegend": true,
         "type": "scatter3d",
         "x": {
          "_inputArray": {
           "0": -0.023222163319587708,
           "bdata": "aDy+vA==",
           "dtype": "f4",
           "shape": "1"
          },
          "bdata": "aDy+vA==",
          "dtype": "f4"
         },
         "y": {
          "_inputArray": {
           "0": 0.4666239619255066,
           "bdata": "VunuPg==",
           "dtype": "f4",
           "shape": "1"
          },
          "bdata": "VunuPg==",
          "dtype": "f4"
         },
         "z": {
          "_inputArray": {
           "0": 0.2262921929359436,
           "bdata": "JLlnPg==",
           "dtype": "f4",
           "shape": "1"
          },
          "bdata": "JLlnPg==",
          "dtype": "f4"
         }
        },
        {
         "hovertemplate": "color=with<br>0=%{x}<br>1=%{y}<br>2=%{z}<extra></extra>",
         "legendgroup": "with",
         "marker": {
          "color": "#19d3f3",
          "symbol": "circle"
         },
         "mode": "markers",
         "name": "with",
         "scene": "scene",
         "showlegend": true,
         "type": "scatter3d",
         "x": {
          "_inputArray": {
           "0": 0.13952195644378662,
           "bdata": "2N4OPg==",
           "dtype": "f4",
           "shape": "1"
          },
          "bdata": "2N4OPg==",
          "dtype": "f4"
         },
         "y": {
          "_inputArray": {
           "0": 0.26901155710220337,
           "bdata": "4ruJPg==",
           "dtype": "f4",
           "shape": "1"
          },
          "bdata": "4ruJPg==",
          "dtype": "f4"
         },
         "z": {
          "_inputArray": {
           "0": 0.1809478998184204,
           "bdata": "aEo5Pg==",
           "dtype": "f4",
           "shape": "1"
          },
          "bdata": "aEo5Pg==",
          "dtype": "f4"
         }
        },
        {
         "hovertemplate": "color=him<br>0=%{x}<br>1=%{y}<br>2=%{z}<extra></extra>",
         "legendgroup": "him",
         "marker": {
          "color": "#FF6692",
          "symbol": "circle"
         },
         "mode": "markers",
         "name": "him",
         "scene": "scene",
         "showlegend": true,
         "type": "scatter3d",
         "x": {
          "_inputArray": {
           "0": -0.13815349340438843,
           "bdata": "HHgNvg==",
           "dtype": "f4",
           "shape": "1"
          },
          "bdata": "HHgNvg==",
          "dtype": "f4"
         },
         "y": {
          "_inputArray": {
           "0": 0.5351839661598206,
           "bdata": "0QEJPw==",
           "dtype": "f4",
           "shape": "1"
          },
          "bdata": "0QEJPw==",
          "dtype": "f4"
         },
         "z": {
          "_inputArray": {
           "0": 0.31053870916366577,
           "bdata": "7v6ePg==",
           "dtype": "f4",
           "shape": "1"
          },
          "bdata": "7v6ePg==",
          "dtype": "f4"
         }
        },
        {
         "hovertemplate": "color=not<br>0=%{x}<br>1=%{y}<br>2=%{z}<extra></extra>",
         "legendgroup": "not",
         "marker": {
          "color": "#B6E880",
          "symbol": "circle"
         },
         "mode": "markers",
         "name": "not",
         "scene": "scene",
         "showlegend": true,
         "type": "scatter3d",
         "x": {
          "_inputArray": {
           "0": -0.4597691595554352,
           "bdata": "3Wbrvg==",
           "dtype": "f4",
           "shape": "1"
          },
          "bdata": "3Wbrvg==",
          "dtype": "f4"
         },
         "y": {
          "_inputArray": {
           "0": 0.5479993224143982,
           "bdata": "r0kMPw==",
           "dtype": "f4",
           "shape": "1"
          },
          "bdata": "r0kMPw==",
          "dtype": "f4"
         },
         "z": {
          "_inputArray": {
           "0": 0.19518740475177765,
           "bdata": "Nd9HPg==",
           "dtype": "f4",
           "shape": "1"
          },
          "bdata": "Nd9HPg==",
          "dtype": "f4"
         }
        },
        {
         "hovertemplate": "color=but<br>0=%{x}<br>1=%{y}<br>2=%{z}<extra></extra>",
         "legendgroup": "but",
         "marker": {
          "color": "#FF97FF",
          "symbol": "circle"
         },
         "mode": "markers",
         "name": "but",
         "scene": "scene",
         "showlegend": true,
         "type": "scatter3d",
         "x": {
          "_inputArray": {
           "0": -0.24010813236236572,
           "bdata": "6N51vg==",
           "dtype": "f4",
           "shape": "1"
          },
          "bdata": "6N51vg==",
          "dtype": "f4"
         },
         "y": {
          "_inputArray": {
           "0": 0.6035448908805847,
           "bdata": "64EaPw==",
           "dtype": "f4",
           "shape": "1"
          },
          "bdata": "64EaPw==",
          "dtype": "f4"
         },
         "z": {
          "_inputArray": {
           "0": 0.1938348412513733,
           "bdata": "pHxGPg==",
           "dtype": "f4",
           "shape": "1"
          },
          "bdata": "pHxGPg==",
          "dtype": "f4"
         }
        },
        {
         "hovertemplate": "color=for<br>0=%{x}<br>1=%{y}<br>2=%{z}<extra></extra>",
         "legendgroup": "for",
         "marker": {
          "color": "#FECB52",
          "symbol": "circle"
         },
         "mode": "markers",
         "name": "for",
         "scene": "scene",
         "showlegend": true,
         "type": "scatter3d",
         "x": {
          "_inputArray": {
           "0": -0.43173861503601074,
           "bdata": "2Azdvg==",
           "dtype": "f4",
           "shape": "1"
          },
          "bdata": "2Azdvg==",
          "dtype": "f4"
         },
         "y": {
          "_inputArray": {
           "0": 0.5223557353019714,
           "bdata": "G7kFPw==",
           "dtype": "f4",
           "shape": "1"
          },
          "bdata": "G7kFPw==",
          "dtype": "f4"
         },
         "z": {
          "_inputArray": {
           "0": 0.19178761541843414,
           "bdata": "+WNEPg==",
           "dtype": "f4",
           "shape": "1"
          },
          "bdata": "+WNEPg==",
          "dtype": "f4"
         }
        },
        {
         "hovertemplate": "color=they<br>0=%{x}<br>1=%{y}<br>2=%{z}<extra></extra>",
         "legendgroup": "they",
         "marker": {
          "color": "#636efa",
          "symbol": "circle"
         },
         "mode": "markers",
         "name": "they",
         "scene": "scene",
         "showlegend": true,
         "type": "scatter3d",
         "x": {
          "_inputArray": {
           "0": -0.010037541389465332,
           "bdata": "gHQkvA==",
           "dtype": "f4",
           "shape": "1"
          },
          "bdata": "gHQkvA==",
          "dtype": "f4"
         },
         "y": {
          "_inputArray": {
           "0": 0.6989843845367432,
           "bdata": "pPAyPw==",
           "dtype": "f4",
           "shape": "1"
          },
          "bdata": "pPAyPw==",
          "dtype": "f4"
         },
         "z": {
          "_inputArray": {
           "0": -0.07012231647968292,
           "bdata": "SpyPvQ==",
           "dtype": "f4",
           "shape": "1"
          },
          "bdata": "SpyPvQ==",
          "dtype": "f4"
         }
        },
        {
         "hovertemplate": "color=is<br>0=%{x}<br>1=%{y}<br>2=%{z}<extra></extra>",
         "legendgroup": "is",
         "marker": {
          "color": "#EF553B",
          "symbol": "circle"
         },
         "mode": "markers",
         "name": "is",
         "scene": "scene",
         "showlegend": true,
         "type": "scatter3d",
         "x": {
          "_inputArray": {
           "0": -0.5754021406173706,
           "bdata": "jk0Tvw==",
           "dtype": "f4",
           "shape": "1"
          },
          "bdata": "jk0Tvw==",
          "dtype": "f4"
         },
         "y": {
          "_inputArray": {
           "0": 0.49214738607406616,
           "bdata": "vvr7Pg==",
           "dtype": "f4",
           "shape": "1"
          },
          "bdata": "vvr7Pg==",
          "dtype": "f4"
         },
         "z": {
          "_inputArray": {
           "0": 0.15569311380386353,
           "bdata": "BG4fPg==",
           "dtype": "f4",
           "shape": "1"
          },
          "bdata": "BG4fPg==",
          "dtype": "f4"
         }
        },
        {
         "hovertemplate": "color=at<br>0=%{x}<br>1=%{y}<br>2=%{z}<extra></extra>",
         "legendgroup": "at",
         "marker": {
          "color": "#00cc96",
          "symbol": "circle"
         },
         "mode": "markers",
         "name": "at",
         "scene": "scene",
         "showlegend": true,
         "type": "scatter3d",
         "x": {
          "_inputArray": {
           "0": -0.04922567307949066,
           "bdata": "3KBJvQ==",
           "dtype": "f4",
           "shape": "1"
          },
          "bdata": "3KBJvQ==",
          "dtype": "f4"
         },
         "y": {
          "_inputArray": {
           "0": 0.396663635969162,
           "bdata": "fxfLPg==",
           "dtype": "f4",
           "shape": "1"
          },
          "bdata": "fxfLPg==",
          "dtype": "f4"
         },
         "z": {
          "_inputArray": {
           "0": 0.31207332015037537,
           "bdata": "E8ifPg==",
           "dtype": "f4",
           "shape": "1"
          },
          "bdata": "E8ifPg==",
          "dtype": "f4"
         }
        },
        {
         "hovertemplate": "color=on<br>0=%{x}<br>1=%{y}<br>2=%{z}<extra></extra>",
         "legendgroup": "on",
         "marker": {
          "color": "#ab63fa",
          "symbol": "circle"
         },
         "mode": "markers",
         "name": "on",
         "scene": "scene",
         "showlegend": true,
         "type": "scatter3d",
         "x": {
          "_inputArray": {
           "0": 0.20533886551856995,
           "bdata": "WkRSPg==",
           "dtype": "f4",
           "shape": "1"
          },
          "bdata": "WkRSPg==",
          "dtype": "f4"
         },
         "y": {
          "_inputArray": {
           "0": 0.4690673351287842,
           "bdata": "mCnwPg==",
           "dtype": "f4",
           "shape": "1"
          },
          "bdata": "mCnwPg==",
          "dtype": "f4"
         },
         "z": {
          "_inputArray": {
           "0": 0.22594472765922546,
           "bdata": "Dl5nPg==",
           "dtype": "f4",
           "shape": "1"
          },
          "bdata": "Dl5nPg==",
          "dtype": "f4"
         }
        },
        {
         "hovertemplate": "color=said<br>0=%{x}<br>1=%{y}<br>2=%{z}<extra></extra>",
         "legendgroup": "said",
         "marker": {
          "color": "#FFA15A",
          "symbol": "circle"
         },
         "mode": "markers",
         "name": "said",
         "scene": "scene",
         "showlegend": true,
         "type": "scatter3d",
         "x": {
          "_inputArray": {
           "0": -0.5433549880981445,
           "bdata": "UBkLvw==",
           "dtype": "f4",
           "shape": "1"
          },
          "bdata": "UBkLvw==",
          "dtype": "f4"
         },
         "y": {
          "_inputArray": {
           "0": 0.47959887981414795,
           "bdata": "/I31Pg==",
           "dtype": "f4",
           "shape": "1"
          },
          "bdata": "/I31Pg==",
          "dtype": "f4"
         },
         "z": {
          "_inputArray": {
           "0": 0.48167794942855835,
           "bdata": "fp72Pg==",
           "dtype": "f4",
           "shape": "1"
          },
          "bdata": "fp72Pg==",
          "dtype": "f4"
         }
        },
        {
         "hovertemplate": "color=my<br>0=%{x}<br>1=%{y}<br>2=%{z}<extra></extra>",
         "legendgroup": "my",
         "marker": {
          "color": "#19d3f3",
          "symbol": "circle"
         },
         "mode": "markers",
         "name": "my",
         "scene": "scene",
         "showlegend": true,
         "type": "scatter3d",
         "x": {
          "_inputArray": {
           "0": -0.4769304692745209,
           "bdata": "OzD0vg==",
           "dtype": "f4",
           "shape": "1"
          },
          "bdata": "OzD0vg==",
          "dtype": "f4"
         },
         "y": {
          "_inputArray": {
           "0": 0.49686506390571594,
           "bdata": "GWX+Pg==",
           "dtype": "f4",
           "shape": "1"
          },
          "bdata": "GWX+Pg==",
          "dtype": "f4"
         },
         "z": {
          "_inputArray": {
           "0": 0.17801307141780853,
           "bdata": "D0k2Pg==",
           "dtype": "f4",
           "shape": "1"
          },
          "bdata": "D0k2Pg==",
          "dtype": "f4"
         }
        },
        {
         "hovertemplate": "color=have<br>0=%{x}<br>1=%{y}<br>2=%{z}<extra></extra>",
         "legendgroup": "have",
         "marker": {
          "color": "#FF6692",
          "symbol": "circle"
         },
         "mode": "markers",
         "name": "have",
         "scene": "scene",
         "showlegend": true,
         "type": "scatter3d",
         "x": {
          "_inputArray": {
           "0": -0.4053833484649658,
           "bdata": "aI7Pvg==",
           "dtype": "f4",
           "shape": "1"
          },
          "bdata": "aI7Pvg==",
          "dtype": "f4"
         },
         "y": {
          "_inputArray": {
           "0": 0.6252772808074951,
           "bdata": "LBIgPw==",
           "dtype": "f4",
           "shape": "1"
          },
          "bdata": "LBIgPw==",
          "dtype": "f4"
         },
         "z": {
          "_inputArray": {
           "0": 0.1351856291294098,
           "bdata": "Gm4KPg==",
           "dtype": "f4",
           "shape": "1"
          },
          "bdata": "Gm4KPg==",
          "dtype": "f4"
         }
        },
        {
         "hovertemplate": "color=be<br>0=%{x}<br>1=%{y}<br>2=%{z}<extra></extra>",
         "legendgroup": "be",
         "marker": {
          "color": "#B6E880",
          "symbol": "circle"
         },
         "mode": "markers",
         "name": "be",
         "scene": "scene",
         "showlegend": true,
         "type": "scatter3d",
         "x": {
          "_inputArray": {
           "0": -0.39157751202583313,
           "bdata": "2XzIvg==",
           "dtype": "f4",
           "shape": "1"
          },
          "bdata": "2XzIvg==",
          "dtype": "f4"
         },
         "y": {
          "_inputArray": {
           "0": 0.6521887183189392,
           "bdata": "1/UmPw==",
           "dtype": "f4",
           "shape": "1"
          },
          "bdata": "1/UmPw==",
          "dtype": "f4"
         },
         "z": {
          "_inputArray": {
           "0": 0.12632083892822266,
           "bdata": "QFoBPg==",
           "dtype": "f4",
           "shape": "1"
          },
          "bdata": "QFoBPg==",
          "dtype": "f4"
         }
        },
        {
         "hovertemplate": "color=lord<br>0=%{x}<br>1=%{y}<br>2=%{z}<extra></extra>",
         "legendgroup": "lord",
         "marker": {
          "color": "#FF97FF",
          "symbol": "circle"
         },
         "mode": "markers",
         "name": "lord",
         "scene": "scene",
         "showlegend": true,
         "type": "scatter3d",
         "x": {
          "_inputArray": {
           "0": -0.4692348837852478,
           "bdata": "jj/wvg==",
           "dtype": "f4",
           "shape": "1"
          },
          "bdata": "jj/wvg==",
          "dtype": "f4"
         },
         "y": {
          "_inputArray": {
           "0": 0.44555991888046265,
           "bdata": "biDkPg==",
           "dtype": "f4",
           "shape": "1"
          },
          "bdata": "biDkPg==",
          "dtype": "f4"
         },
         "z": {
          "_inputArray": {
           "0": 0.04555352032184601,
           "bdata": "VJY6PQ==",
           "dtype": "f4",
           "shape": "1"
          },
          "bdata": "VJY6PQ==",
          "dtype": "f4"
         }
        },
        {
         "hovertemplate": "color=them<br>0=%{x}<br>1=%{y}<br>2=%{z}<extra></extra>",
         "legendgroup": "them",
         "marker": {
          "color": "#FECB52",
          "symbol": "circle"
         },
         "mode": "markers",
         "name": "them",
         "scene": "scene",
         "showlegend": true,
         "type": "scatter3d",
         "x": {
          "_inputArray": {
           "0": 0.013566642999649048,
           "bdata": "oEZePA==",
           "dtype": "f4",
           "shape": "1"
          },
          "bdata": "oEZePA==",
          "dtype": "f4"
         },
         "y": {
          "_inputArray": {
           "0": 0.6886276006698608,
           "bdata": "5kkwPw==",
           "dtype": "f4",
           "shape": "1"
          },
          "bdata": "5kkwPw==",
          "dtype": "f4"
         },
         "z": {
          "_inputArray": {
           "0": 0.0023842304944992065,
           "bdata": "wEAcOw==",
           "dtype": "f4",
           "shape": "1"
          },
          "bdata": "wEAcOw==",
          "dtype": "f4"
         }
        },
        {
         "hovertemplate": "color=no<br>0=%{x}<br>1=%{y}<br>2=%{z}<extra></extra>",
         "legendgroup": "no",
         "marker": {
          "color": "#636efa",
          "symbol": "circle"
         },
         "mode": "markers",
         "name": "no",
         "scene": "scene",
         "showlegend": true,
         "type": "scatter3d",
         "x": {
          "_inputArray": {
           "0": -0.38021013140678406,
           "bdata": "56rCvg==",
           "dtype": "f4",
           "shape": "1"
          },
          "bdata": "56rCvg==",
          "dtype": "f4"
         },
         "y": {
          "_inputArray": {
           "0": 0.5372477769851685,
           "bdata": "EokJPw==",
           "dtype": "f4",
           "shape": "1"
          },
          "bdata": "EokJPw==",
          "dtype": "f4"
         },
         "z": {
          "_inputArray": {
           "0": 0.08444252610206604,
           "bdata": "NPCsPQ==",
           "dtype": "f4",
           "shape": "1"
          },
          "bdata": "NPCsPQ==",
          "dtype": "f4"
         }
        },
        {
         "hovertemplate": "color=from<br>0=%{x}<br>1=%{y}<br>2=%{z}<extra></extra>",
         "legendgroup": "from",
         "marker": {
          "color": "#EF553B",
          "symbol": "circle"
         },
         "mode": "markers",
         "name": "from",
         "scene": "scene",
         "showlegend": true,
         "type": "scatter3d",
         "x": {
          "_inputArray": {
           "0": 0.19255900382995605,
           "bdata": "MC5FPg==",
           "dtype": "f4",
           "shape": "1"
          },
          "bdata": "MC5FPg==",
          "dtype": "f4"
         },
         "y": {
          "_inputArray": {
           "0": 0.4533562958240509,
           "bdata": "UR7oPg==",
           "dtype": "f4",
           "shape": "1"
          },
          "bdata": "UR7oPg==",
          "dtype": "f4"
         },
         "z": {
          "_inputArray": {
           "0": 0.1589931845664978,
           "bdata": "HM8iPg==",
           "dtype": "f4",
           "shape": "1"
          },
          "bdata": "HM8iPg==",
          "dtype": "f4"
         }
        },
        {
         "hovertemplate": "color=would<br>0=%{x}<br>1=%{y}<br>2=%{z}<extra></extra>",
         "legendgroup": "would",
         "marker": {
          "color": "#00cc96",
          "symbol": "circle"
         },
         "mode": "markers",
         "name": "would",
         "scene": "scene",
         "showlegend": true,
         "type": "scatter3d",
         "x": {
          "_inputArray": {
           "0": -0.3901280462741852,
           "bdata": "3b7Hvg==",
           "dtype": "f4",
           "shape": "1"
          },
          "bdata": "3b7Hvg==",
          "dtype": "f4"
         },
         "y": {
          "_inputArray": {
           "0": 0.5549528002738953,
           "bdata": "YxEOPw==",
           "dtype": "f4",
           "shape": "1"
          },
          "bdata": "YxEOPw==",
          "dtype": "f4"
         },
         "z": {
          "_inputArray": {
           "0": 0.24317553639411926,
           "bdata": "AgN5Pg==",
           "dtype": "f4",
           "shape": "1"
          },
          "bdata": "AgN5Pg==",
          "dtype": "f4"
         }
        },
        {
         "hovertemplate": "color=were<br>0=%{x}<br>1=%{y}<br>2=%{z}<extra></extra>",
         "legendgroup": "were",
         "marker": {
          "color": "#ab63fa",
          "symbol": "circle"
         },
         "mode": "markers",
         "name": "were",
         "scene": "scene",
         "showlegend": true,
         "type": "scatter3d",
         "x": {
          "_inputArray": {
           "0": 0.03086315095424652,
           "bdata": "uNT8PA==",
           "dtype": "f4",
           "shape": "1"
          },
          "bdata": "uNT8PA==",
          "dtype": "f4"
         },
         "y": {
          "_inputArray": {
           "0": 0.5160114169120789,
           "bdata": "UxkEPw==",
           "dtype": "f4",
           "shape": "1"
          },
          "bdata": "UxkEPw==",
          "dtype": "f4"
         },
         "z": {
          "_inputArray": {
           "0": 0.029209330677986145,
           "bdata": "aEjvPA==",
           "dtype": "f4",
           "shape": "1"
          },
          "bdata": "aEjvPA==",
          "dtype": "f4"
         }
        },
        {
         "hovertemplate": "color=me<br>0=%{x}<br>1=%{y}<br>2=%{z}<extra></extra>",
         "legendgroup": "me",
         "marker": {
          "color": "#FFA15A",
          "symbol": "circle"
         },
         "mode": "markers",
         "name": "me",
         "scene": "scene",
         "showlegend": true,
         "type": "scatter3d",
         "x": {
          "_inputArray": {
           "0": -0.4991244375705719,
           "bdata": "PY3/vg==",
           "dtype": "f4",
           "shape": "1"
          },
          "bdata": "PY3/vg==",
          "dtype": "f4"
         },
         "y": {
          "_inputArray": {
           "0": 0.5786018371582031,
           "bdata": "QB8UPw==",
           "dtype": "f4",
           "shape": "1"
          },
          "bdata": "QB8UPw==",
          "dtype": "f4"
         },
         "z": {
          "_inputArray": {
           "0": 0.2132185846567154,
           "bdata": "+VVaPg==",
           "dtype": "f4",
           "shape": "1"
          },
          "bdata": "+VVaPg==",
          "dtype": "f4"
         }
        },
        {
         "hovertemplate": "color=your<br>0=%{x}<br>1=%{y}<br>2=%{z}<extra></extra>",
         "legendgroup": "your",
         "marker": {
          "color": "#19d3f3",
          "symbol": "circle"
         },
         "mode": "markers",
         "name": "your",
         "scene": "scene",
         "showlegend": true,
         "type": "scatter3d",
         "x": {
          "_inputArray": {
           "0": -0.4563743472099304,
           "bdata": "5qnpvg==",
           "dtype": "f4",
           "shape": "1"
          },
          "bdata": "5qnpvg==",
          "dtype": "f4"
         },
         "y": {
          "_inputArray": {
           "0": 0.48724067211151123,
           "bdata": "nHf5Pg==",
           "dtype": "f4",
           "shape": "1"
          },
          "bdata": "nHf5Pg==",
          "dtype": "f4"
         },
         "z": {
          "_inputArray": {
           "0": 0.17416849732398987,
           "bdata": "OlkyPg==",
           "dtype": "f4",
           "shape": "1"
          },
          "bdata": "OlkyPg==",
          "dtype": "f4"
         }
        },
        {
         "hovertemplate": "color=one<br>0=%{x}<br>1=%{y}<br>2=%{z}<extra></extra>",
         "legendgroup": "one",
         "marker": {
          "color": "#FF6692",
          "symbol": "circle"
         },
         "mode": "markers",
         "name": "one",
         "scene": "scene",
         "showlegend": true,
         "type": "scatter3d",
         "x": {
          "_inputArray": {
           "0": -0.032126255333423615,
           "bdata": "0pYDvQ==",
           "dtype": "f4",
           "shape": "1"
          },
          "bdata": "0pYDvQ==",
          "dtype": "f4"
         },
         "y": {
          "_inputArray": {
           "0": 0.6004276275634766,
           "bdata": "oLUZPw==",
           "dtype": "f4",
           "shape": "1"
          },
          "bdata": "oLUZPw==",
          "dtype": "f4"
         },
         "z": {
          "_inputArray": {
           "0": 0.1413627415895462,
           "bdata": "ZcEQPg==",
           "dtype": "f4",
           "shape": "1"
          },
          "bdata": "ZcEQPg==",
          "dtype": "f4"
         }
        },
        {
         "hovertemplate": "color=all<br>0=%{x}<br>1=%{y}<br>2=%{z}<extra></extra>",
         "legendgroup": "all",
         "marker": {
          "color": "#B6E880",
          "symbol": "circle"
         },
         "mode": "markers",
         "name": "all",
         "scene": "scene",
         "showlegend": true,
         "type": "scatter3d",
         "x": {
          "_inputArray": {
           "0": -0.23303598165512085,
           "bdata": "/KBuvg==",
           "dtype": "f4",
           "shape": "1"
          },
          "bdata": "/KBuvg==",
          "dtype": "f4"
         },
         "y": {
          "_inputArray": {
           "0": 0.6976364850997925,
           "bdata": "TpgyPw==",
           "dtype": "f4",
           "shape": "1"
          },
          "bdata": "TpgyPw==",
          "dtype": "f4"
         },
         "z": {
          "_inputArray": {
           "0": -0.025107786059379578,
           "bdata": "2K7NvA==",
           "dtype": "f4",
           "shape": "1"
          },
          "bdata": "2K7NvA==",
          "dtype": "f4"
         }
        },
        {
         "hovertemplate": "color=when<br>0=%{x}<br>1=%{y}<br>2=%{z}<extra></extra>",
         "legendgroup": "when",
         "marker": {
          "color": "#FF97FF",
          "symbol": "circle"
         },
         "mode": "markers",
         "name": "when",
         "scene": "scene",
         "showlegend": true,
         "type": "scatter3d",
         "x": {
          "_inputArray": {
           "0": -0.10776297003030777,
           "bdata": "1bLcvQ==",
           "dtype": "f4",
           "shape": "1"
          },
          "bdata": "1bLcvQ==",
          "dtype": "f4"
         },
         "y": {
          "_inputArray": {
           "0": 0.5678257346153259,
           "bdata": "B10RPw==",
           "dtype": "f4",
           "shape": "1"
          },
          "bdata": "B10RPw==",
          "dtype": "f4"
         },
         "z": {
          "_inputArray": {
           "0": 0.2940122187137604,
           "bdata": "xYiWPg==",
           "dtype": "f4",
           "shape": "1"
          },
          "bdata": "xYiWPg==",
          "dtype": "f4"
         }
        },
        {
         "hovertemplate": "color=will<br>0=%{x}<br>1=%{y}<br>2=%{z}<extra></extra>",
         "legendgroup": "will",
         "marker": {
          "color": "#FECB52",
          "symbol": "circle"
         },
         "mode": "markers",
         "name": "will",
         "scene": "scene",
         "showlegend": true,
         "type": "scatter3d",
         "x": {
          "_inputArray": {
           "0": -0.4837980270385742,
           "bdata": "YLT3vg==",
           "dtype": "f4",
           "shape": "1"
          },
          "bdata": "YLT3vg==",
          "dtype": "f4"
         },
         "y": {
          "_inputArray": {
           "0": 0.5509384870529175,
           "bdata": "TgoNPw==",
           "dtype": "f4",
           "shape": "1"
          },
          "bdata": "TgoNPw==",
          "dtype": "f4"
         },
         "z": {
          "_inputArray": {
           "0": 0.19212603569030762,
           "bdata": "sLxEPg==",
           "dtype": "f4",
           "shape": "1"
          },
          "bdata": "sLxEPg==",
          "dtype": "f4"
         }
        },
        {
         "hovertemplate": "color=ser<br>0=%{x}<br>1=%{y}<br>2=%{z}<extra></extra>",
         "legendgroup": "ser",
         "marker": {
          "color": "#636efa",
          "symbol": "circle"
         },
         "mode": "markers",
         "name": "ser",
         "scene": "scene",
         "showlegend": true,
         "type": "scatter3d",
         "x": {
          "_inputArray": {
           "0": -0.3960427939891815,
           "bdata": "H8bKvg==",
           "dtype": "f4",
           "shape": "1"
          },
          "bdata": "H8bKvg==",
          "dtype": "f4"
         },
         "y": {
          "_inputArray": {
           "0": 0.278370201587677,
           "bdata": "ioaOPg==",
           "dtype": "f4",
           "shape": "1"
          },
          "bdata": "ioaOPg==",
          "dtype": "f4"
         },
         "z": {
          "_inputArray": {
           "0": 0.14121799170970917,
           "bdata": "c5sQPg==",
           "dtype": "f4",
           "shape": "1"
          },
          "bdata": "c5sQPg==",
          "dtype": "f4"
         }
        },
        {
         "hovertemplate": "color=if<br>0=%{x}<br>1=%{y}<br>2=%{z}<extra></extra>",
         "legendgroup": "if",
         "marker": {
          "color": "#EF553B",
          "symbol": "circle"
         },
         "mode": "markers",
         "name": "if",
         "scene": "scene",
         "showlegend": true,
         "type": "scatter3d",
         "x": {
          "_inputArray": {
           "0": -0.4041888117790222,
           "bdata": "1vHOvg==",
           "dtype": "f4",
           "shape": "1"
          },
          "bdata": "1vHOvg==",
          "dtype": "f4"
         },
         "y": {
          "_inputArray": {
           "0": 0.6227908730506897,
           "bdata": "OW8fPw==",
           "dtype": "f4",
           "shape": "1"
          },
          "bdata": "OW8fPw==",
          "dtype": "f4"
         },
         "z": {
          "_inputArray": {
           "0": 0.28325048089027405,
           "bdata": "NQaRPg==",
           "dtype": "f4",
           "shape": "1"
          },
          "bdata": "NQaRPg==",
          "dtype": "f4"
         }
        },
        {
         "hovertemplate": "color=so<br>0=%{x}<br>1=%{y}<br>2=%{z}<extra></extra>",
         "legendgroup": "so",
         "marker": {
          "color": "#00cc96",
          "symbol": "circle"
         },
         "mode": "markers",
         "name": "so",
         "scene": "scene",
         "showlegend": true,
         "type": "scatter3d",
         "x": {
          "_inputArray": {
           "0": -0.17473894357681274,
           "bdata": "xO4yvg==",
           "dtype": "f4",
           "shape": "1"
          },
          "bdata": "xO4yvg==",
          "dtype": "f4"
         },
         "y": {
          "_inputArray": {
           "0": 0.5644871592521667,
           "bdata": "O4IQPw==",
           "dtype": "f4",
           "shape": "1"
          },
          "bdata": "O4IQPw==",
          "dtype": "f4"
         },
         "z": {
          "_inputArray": {
           "0": 0.27914419770240784,
           "bdata": "/euOPg==",
           "dtype": "f4",
           "shape": "1"
          },
          "bdata": "/euOPg==",
          "dtype": "f4"
         }
        },
        {
         "hovertemplate": "color=their<br>0=%{x}<br>1=%{y}<br>2=%{z}<extra></extra>",
         "legendgroup": "their",
         "marker": {
          "color": "#ab63fa",
          "symbol": "circle"
         },
         "mode": "markers",
         "name": "their",
         "scene": "scene",
         "showlegend": true,
         "type": "scatter3d",
         "x": {
          "_inputArray": {
           "0": 0.07723671197891235,
           "bdata": "SC6ePQ==",
           "dtype": "f4",
           "shape": "1"
          },
          "bdata": "SC6ePQ==",
          "dtype": "f4"
         },
         "y": {
          "_inputArray": {
           "0": 0.5317825675010681,
           "bdata": "5yIIPw==",
           "dtype": "f4",
           "shape": "1"
          },
          "bdata": "5yIIPw==",
          "dtype": "f4"
         },
         "z": {
          "_inputArray": {
           "0": -0.18095435202121735,
           "bdata": "GUw5vg==",
           "dtype": "f4",
           "shape": "1"
          },
          "bdata": "GUw5vg==",
          "dtype": "f4"
         }
        },
        {
         "hovertemplate": "color=we<br>0=%{x}<br>1=%{y}<br>2=%{z}<extra></extra>",
         "legendgroup": "we",
         "marker": {
          "color": "#FFA15A",
          "symbol": "circle"
         },
         "mode": "markers",
         "name": "we",
         "scene": "scene",
         "showlegend": true,
         "type": "scatter3d",
         "x": {
          "_inputArray": {
           "0": -0.36147311329841614,
           "bdata": "ARO5vg==",
           "dtype": "f4",
           "shape": "1"
          },
          "bdata": "ARO5vg==",
          "dtype": "f4"
         },
         "y": {
          "_inputArray": {
           "0": 0.7529888153076172,
           "bdata": "4MNAPw==",
           "dtype": "f4",
           "shape": "1"
          },
          "bdata": "4MNAPw==",
          "dtype": "f4"
         },
         "z": {
          "_inputArray": {
           "0": -0.017160236835479736,
           "bdata": "oJOMvA==",
           "dtype": "f4",
           "shape": "1"
          },
          "bdata": "oJOMvA==",
          "dtype": "f4"
         }
        },
        {
         "hovertemplate": "color=could<br>0=%{x}<br>1=%{y}<br>2=%{z}<extra></extra>",
         "legendgroup": "could",
         "marker": {
          "color": "#19d3f3",
          "symbol": "circle"
         },
         "mode": "markers",
         "name": "could",
         "scene": "scene",
         "showlegend": true,
         "type": "scatter3d",
         "x": {
          "_inputArray": {
           "0": -0.09584785997867584,
           "bdata": "4kvEvQ==",
           "dtype": "f4",
           "shape": "1"
          },
          "bdata": "4kvEvQ==",
          "dtype": "f4"
         },
         "y": {
          "_inputArray": {
           "0": 0.499368280172348,
           "bdata": "M63/Pg==",
           "dtype": "f4",
           "shape": "1"
          },
          "bdata": "M63/Pg==",
          "dtype": "f4"
         },
         "z": {
          "_inputArray": {
           "0": 0.2689487636089325,
           "bdata": "p7OJPg==",
           "dtype": "f4",
           "shape": "1"
          },
          "bdata": "p7OJPg==",
          "dtype": "f4"
         }
        },
        {
         "hovertemplate": "color=are<br>0=%{x}<br>1=%{y}<br>2=%{z}<extra></extra>",
         "legendgroup": "are",
         "marker": {
          "color": "#FF6692",
          "symbol": "circle"
         },
         "mode": "markers",
         "name": "are",
         "scene": "scene",
         "showlegend": true,
         "type": "scatter3d",
         "x": {
          "_inputArray": {
           "0": -0.4189201295375824,
           "bdata": "s3zWvg==",
           "dtype": "f4",
           "shape": "1"
          },
          "bdata": "s3zWvg==",
          "dtype": "f4"
         },
         "y": {
          "_inputArray": {
           "0": 0.536535382270813,
           "bdata": "YloJPw==",
           "dtype": "f4",
           "shape": "1"
          },
          "bdata": "YloJPw==",
          "dtype": "f4"
         },
         "z": {
          "_inputArray": {
           "0": -0.016850173473358154,
           "bdata": "YAmKvA==",
           "dtype": "f4",
           "shape": "1"
          },
          "bdata": "YAmKvA==",
          "dtype": "f4"
         }
        },
        {
         "hovertemplate": "color=man<br>0=%{x}<br>1=%{y}<br>2=%{z}<extra></extra>",
         "legendgroup": "man",
         "marker": {
          "color": "#B6E880",
          "symbol": "circle"
         },
         "mode": "markers",
         "name": "man",
         "scene": "scene",
         "showlegend": true,
         "type": "scatter3d",
         "x": {
          "_inputArray": {
           "0": -0.12680748105049133,
           "bdata": "0tkBvg==",
           "dtype": "f4",
           "shape": "1"
          },
          "bdata": "0tkBvg==",
          "dtype": "f4"
         },
         "y": {
          "_inputArray": {
           "0": 0.5044106245040894,
           "bdata": "DiEBPw==",
           "dtype": "f4",
           "shape": "1"
          },
          "bdata": "DiEBPw==",
          "dtype": "f4"
         },
         "z": {
          "_inputArray": {
           "0": 0.1667831540107727,
           "bdata": "NMkqPg==",
           "dtype": "f4",
           "shape": "1"
          },
          "bdata": "NMkqPg==",
          "dtype": "f4"
         }
        },
        {
         "hovertemplate": "color=there<br>0=%{x}<br>1=%{y}<br>2=%{z}<extra></extra>",
         "legendgroup": "there",
         "marker": {
          "color": "#FF97FF",
          "symbol": "circle"
         },
         "mode": "markers",
         "name": "there",
         "scene": "scene",
         "showlegend": true,
         "type": "scatter3d",
         "x": {
          "_inputArray": {
           "0": -0.0864563137292862,
           "bdata": "AhCxvQ==",
           "dtype": "f4",
           "shape": "1"
          },
          "bdata": "AhCxvQ==",
          "dtype": "f4"
         },
         "y": {
          "_inputArray": {
           "0": 0.6290346384048462,
           "bdata": "agghPw==",
           "dtype": "f4",
           "shape": "1"
          },
          "bdata": "agghPw==",
          "dtype": "f4"
         },
         "z": {
          "_inputArray": {
           "0": 0.02497580647468567,
           "bdata": "EJrMPA==",
           "dtype": "f4",
           "shape": "1"
          },
          "bdata": "EJrMPA==",
          "dtype": "f4"
         }
        },
        {
         "hovertemplate": "color=this<br>0=%{x}<br>1=%{y}<br>2=%{z}<extra></extra>",
         "legendgroup": "this",
         "marker": {
          "color": "#FECB52",
          "symbol": "circle"
         },
         "mode": "markers",
         "name": "this",
         "scene": "scene",
         "showlegend": true,
         "type": "scatter3d",
         "x": {
          "_inputArray": {
           "0": -0.42686691880226135,
           "bdata": "TY7avg==",
           "dtype": "f4",
           "shape": "1"
          },
          "bdata": "TY7avg==",
          "dtype": "f4"
         },
         "y": {
          "_inputArray": {
           "0": 0.6094731092453003,
           "bdata": "bgYcPw==",
           "dtype": "f4",
           "shape": "1"
          },
          "bdata": "bgYcPw==",
          "dtype": "f4"
         },
         "z": {
          "_inputArray": {
           "0": 0.10657331347465515,
           "bdata": "HEPaPQ==",
           "dtype": "f4",
           "shape": "1"
          },
          "bdata": "HEPaPQ==",
          "dtype": "f4"
         }
        },
        {
         "hovertemplate": "color=up<br>0=%{x}<br>1=%{y}<br>2=%{z}<extra></extra>",
         "legendgroup": "up",
         "marker": {
          "color": "#636efa",
          "symbol": "circle"
         },
         "mode": "markers",
         "name": "up",
         "scene": "scene",
         "showlegend": true,
         "type": "scatter3d",
         "x": {
          "_inputArray": {
           "0": 0.407729834318161,
           "bdata": "98HQPg==",
           "dtype": "f4",
           "shape": "1"
          },
          "bdata": "98HQPg==",
          "dtype": "f4"
         },
         "y": {
          "_inputArray": {
           "0": 0.5562782287597656,
           "bdata": "QGgOPw==",
           "dtype": "f4",
           "shape": "1"
          },
          "bdata": "QGgOPw==",
          "dtype": "f4"
         },
         "z": {
          "_inputArray": {
           "0": 0.2975785732269287,
           "bdata": "OFyYPg==",
           "dtype": "f4",
           "shape": "1"
          },
          "bdata": "OFyYPg==",
          "dtype": "f4"
         }
        },
        {
         "hovertemplate": "color=been<br>0=%{x}<br>1=%{y}<br>2=%{z}<extra></extra>",
         "legendgroup": "been",
         "marker": {
          "color": "#EF553B",
          "symbol": "circle"
         },
         "mode": "markers",
         "name": "been",
         "scene": "scene",
         "showlegend": true,
         "type": "scatter3d",
         "x": {
          "_inputArray": {
           "0": -0.17286095023155212,
           "bdata": "dgIxvg==",
           "dtype": "f4",
           "shape": "1"
          },
          "bdata": "dgIxvg==",
          "dtype": "f4"
         },
         "y": {
          "_inputArray": {
           "0": 0.54157954454422,
           "bdata": "9aQKPw==",
           "dtype": "f4",
           "shape": "1"
          },
          "bdata": "9aQKPw==",
          "dtype": "f4"
         },
         "z": {
          "_inputArray": {
           "0": 0.13799147307872772,
           "bdata": "o00NPg==",
           "dtype": "f4",
           "shape": "1"
          },
          "bdata": "o00NPg==",
          "dtype": "f4"
         }
        },
        {
         "hovertemplate": "color=what<br>0=%{x}<br>1=%{y}<br>2=%{z}<extra></extra>",
         "legendgroup": "what",
         "marker": {
          "color": "#00cc96",
          "symbol": "circle"
         },
         "mode": "markers",
         "name": "what",
         "scene": "scene",
         "showlegend": true,
         "type": "scatter3d",
         "x": {
          "_inputArray": {
           "0": -0.3857326805591583,
           "bdata": "wX7Fvg==",
           "dtype": "f4",
           "shape": "1"
          },
          "bdata": "wX7Fvg==",
          "dtype": "f4"
         },
         "y": {
          "_inputArray": {
           "0": 0.6045533418655396,
           "bdata": "AsQaPw==",
           "dtype": "f4",
           "shape": "1"
          },
          "bdata": "AsQaPw==",
          "dtype": "f4"
         },
         "z": {
          "_inputArray": {
           "0": 0.10135248303413391,
           "bdata": "5JHPPQ==",
           "dtype": "f4",
           "shape": "1"
          },
          "bdata": "5JHPPQ==",
          "dtype": "f4"
         }
        },
        {
         "hovertemplate": "color=did<br>0=%{x}<br>1=%{y}<br>2=%{z}<extra></extra>",
         "legendgroup": "did",
         "marker": {
          "color": "#ab63fa",
          "symbol": "circle"
         },
         "mode": "markers",
         "name": "did",
         "scene": "scene",
         "showlegend": true,
         "type": "scatter3d",
         "x": {
          "_inputArray": {
           "0": -0.37165385484695435,
           "bdata": "akm+vg==",
           "dtype": "f4",
           "shape": "1"
          },
          "bdata": "akm+vg==",
          "dtype": "f4"
         },
         "y": {
          "_inputArray": {
           "0": 0.4660171866416931,
           "bdata": "zpnuPg==",
           "dtype": "f4",
           "shape": "1"
          },
          "bdata": "zpnuPg==",
          "dtype": "f4"
         },
         "z": {
          "_inputArray": {
           "0": 0.3772392272949219,
           "bdata": "gCXBPg==",
           "dtype": "f4",
           "shape": "1"
          },
          "bdata": "gCXBPg==",
          "dtype": "f4"
         }
        },
        {
         "hovertemplate": "color=by<br>0=%{x}<br>1=%{y}<br>2=%{z}<extra></extra>",
         "legendgroup": "by",
         "marker": {
          "color": "#FFA15A",
          "symbol": "circle"
         },
         "mode": "markers",
         "name": "by",
         "scene": "scene",
         "showlegend": true,
         "type": "scatter3d",
         "x": {
          "_inputArray": {
           "0": -0.007643617689609528,
           "bdata": "UHf6uw==",
           "dtype": "f4",
           "shape": "1"
          },
          "bdata": "UHf6uw==",
          "dtype": "f4"
         },
         "y": {
          "_inputArray": {
           "0": 0.45845407247543335,
           "bdata": "frrqPg==",
           "dtype": "f4",
           "shape": "1"
          },
          "bdata": "frrqPg==",
          "dtype": "f4"
         },
         "z": {
          "_inputArray": {
           "0": 0.00974854826927185,
           "bdata": "YLgfPA==",
           "dtype": "f4",
           "shape": "1"
          },
          "bdata": "YLgfPA==",
          "dtype": "f4"
         }
        },
        {
         "hovertemplate": "color=king<br>0=%{x}<br>1=%{y}<br>2=%{z}<extra></extra>",
         "legendgroup": "king",
         "marker": {
          "color": "#19d3f3",
          "symbol": "circle"
         },
         "mode": "markers",
         "name": "king",
         "scene": "scene",
         "showlegend": true,
         "type": "scatter3d",
         "x": {
          "_inputArray": {
           "0": -0.39357298612594604,
           "bdata": "ZoLJvg==",
           "dtype": "f4",
           "shape": "1"
          },
          "bdata": "ZoLJvg==",
          "dtype": "f4"
         },
         "y": {
          "_inputArray": {
           "0": 0.6580605506896973,
           "bdata": "qHYoPw==",
           "dtype": "f4",
           "shape": "1"
          },
          "bdata": "qHYoPw==",
          "dtype": "f4"
         },
         "z": {
          "_inputArray": {
           "0": 0.03919687867164612,
           "bdata": "6IwgPQ==",
           "dtype": "f4",
           "shape": "1"
          },
          "bdata": "6IwgPQ==",
          "dtype": "f4"
         }
        },
        {
         "hovertemplate": "color=do<br>0=%{x}<br>1=%{y}<br>2=%{z}<extra></extra>",
         "legendgroup": "do",
         "marker": {
          "color": "#FF6692",
          "symbol": "circle"
         },
         "mode": "markers",
         "name": "do",
         "scene": "scene",
         "showlegend": true,
         "type": "scatter3d",
         "x": {
          "_inputArray": {
           "0": -0.5365934371948242,
           "bdata": "MF4Jvw==",
           "dtype": "f4",
           "shape": "1"
          },
          "bdata": "MF4Jvw==",
          "dtype": "f4"
         },
         "y": {
          "_inputArray": {
           "0": 0.5374179482460022,
           "bdata": "OZQJPw==",
           "dtype": "f4",
           "shape": "1"
          },
          "bdata": "OZQJPw==",
          "dtype": "f4"
         },
         "z": {
          "_inputArray": {
           "0": 0.2853536903858185,
           "bdata": "4RmSPg==",
           "dtype": "f4",
           "shape": "1"
          },
          "bdata": "4RmSPg==",
          "dtype": "f4"
         }
        },
        {
         "hovertemplate": "color=men<br>0=%{x}<br>1=%{y}<br>2=%{z}<extra></extra>",
         "legendgroup": "men",
         "marker": {
          "color": "#B6E880",
          "symbol": "circle"
         },
         "mode": "markers",
         "name": "men",
         "scene": "scene",
         "showlegend": true,
         "type": "scatter3d",
         "x": {
          "_inputArray": {
           "0": -0.09995424002408981,
           "bdata": "z7TMvQ==",
           "dtype": "f4",
           "shape": "1"
          },
          "bdata": "z7TMvQ==",
          "dtype": "f4"
         },
         "y": {
          "_inputArray": {
           "0": 0.7527804374694824,
           "bdata": "OLZAPw==",
           "dtype": "f4",
           "shape": "1"
          },
          "bdata": "OLZAPw==",
          "dtype": "f4"
         },
         "z": {
          "_inputArray": {
           "0": -0.2285781055688858,
           "bdata": "YRBqvg==",
           "dtype": "f4",
           "shape": "1"
          },
          "bdata": "YRBqvg==",
          "dtype": "f4"
         }
        },
        {
         "hovertemplate": "color=back<br>0=%{x}<br>1=%{y}<br>2=%{z}<extra></extra>",
         "legendgroup": "back",
         "marker": {
          "color": "#FF97FF",
          "symbol": "circle"
         },
         "mode": "markers",
         "name": "back",
         "scene": "scene",
         "showlegend": true,
         "type": "scatter3d",
         "x": {
          "_inputArray": {
           "0": 0.18798032402992249,
           "bdata": "6n1APg==",
           "dtype": "f4",
           "shape": "1"
          },
          "bdata": "6n1APg==",
          "dtype": "f4"
         },
         "y": {
          "_inputArray": {
           "0": 0.614151120185852,
           "bdata": "AjkdPw==",
           "dtype": "f4",
           "shape": "1"
          },
          "bdata": "AjkdPw==",
          "dtype": "f4"
         },
         "z": {
          "_inputArray": {
           "0": 0.43942373991012573,
           "bdata": "JvzgPg==",
           "dtype": "f4",
           "shape": "1"
          },
          "bdata": "JvzgPg==",
          "dtype": "f4"
         }
        },
        {
         "hovertemplate": "color=out<br>0=%{x}<br>1=%{y}<br>2=%{z}<extra></extra>",
         "legendgroup": "out",
         "marker": {
          "color": "#FECB52",
          "symbol": "circle"
         },
         "mode": "markers",
         "name": "out",
         "scene": "scene",
         "showlegend": true,
         "type": "scatter3d",
         "x": {
          "_inputArray": {
           "0": 0.26731714606285095,
           "bdata": "y92IPg==",
           "dtype": "f4",
           "shape": "1"
          },
          "bdata": "y92IPg==",
          "dtype": "f4"
         },
         "y": {
          "_inputArray": {
           "0": 0.5545035600662231,
           "bdata": "8vMNPw==",
           "dtype": "f4",
           "shape": "1"
          },
          "bdata": "8vMNPw==",
          "dtype": "f4"
         },
         "z": {
          "_inputArray": {
           "0": 0.3047063648700714,
           "bdata": "eQKcPg==",
           "dtype": "f4",
           "shape": "1"
          },
          "bdata": "eQKcPg==",
          "dtype": "f4"
         }
        },
        {
         "hovertemplate": "color=more<br>0=%{x}<br>1=%{y}<br>2=%{z}<extra></extra>",
         "legendgroup": "more",
         "marker": {
          "color": "#636efa",
          "symbol": "circle"
         },
         "mode": "markers",
         "name": "more",
         "scene": "scene",
         "showlegend": true,
         "type": "scatter3d",
         "x": {
          "_inputArray": {
           "0": -0.24126200377941132,
           "bdata": "Yw13vg==",
           "dtype": "f4",
           "shape": "1"
          },
          "bdata": "Yw13vg==",
          "dtype": "f4"
         },
         "y": {
          "_inputArray": {
           "0": 0.5537130832672119,
           "bdata": "JMANPw==",
           "dtype": "f4",
           "shape": "1"
          },
          "bdata": "JMANPw==",
          "dtype": "f4"
         },
         "z": {
          "_inputArray": {
           "0": 0.04775035381317139,
           "bdata": "4JVDPQ==",
           "dtype": "f4",
           "shape": "1"
          },
          "bdata": "4JVDPQ==",
          "dtype": "f4"
         }
        },
        {
         "hovertemplate": "color=or<br>0=%{x}<br>1=%{y}<br>2=%{z}<extra></extra>",
         "legendgroup": "or",
         "marker": {
          "color": "#EF553B",
          "symbol": "circle"
         },
         "mode": "markers",
         "name": "or",
         "scene": "scene",
         "showlegend": true,
         "type": "scatter3d",
         "x": {
          "_inputArray": {
           "0": -0.3475674092769623,
           "bdata": "W/Sxvg==",
           "dtype": "f4",
           "shape": "1"
          },
          "bdata": "W/Sxvg==",
          "dtype": "f4"
         },
         "y": {
          "_inputArray": {
           "0": 0.5683251619338989,
           "bdata": "wn0RPw==",
           "dtype": "f4",
           "shape": "1"
          },
          "bdata": "wn0RPw==",
          "dtype": "f4"
         },
         "z": {
          "_inputArray": {
           "0": 0.08265706896781921,
           "bdata": "HEipPQ==",
           "dtype": "f4",
           "shape": "1"
          },
          "bdata": "HEipPQ==",
          "dtype": "f4"
         }
        },
        {
         "hovertemplate": "color=who<br>0=%{x}<br>1=%{y}<br>2=%{z}<extra></extra>",
         "legendgroup": "who",
         "marker": {
          "color": "#00cc96",
          "symbol": "circle"
         },
         "mode": "markers",
         "name": "who",
         "scene": "scene",
         "showlegend": true,
         "type": "scatter3d",
         "x": {
          "_inputArray": {
           "0": -0.4381168484687805,
           "bdata": "2lDgvg==",
           "dtype": "f4",
           "shape": "1"
          },
          "bdata": "2lDgvg==",
          "dtype": "f4"
         },
         "y": {
          "_inputArray": {
           "0": 0.5864975452423096,
           "bdata": "tCQWPw==",
           "dtype": "f4",
           "shape": "1"
          },
          "bdata": "tCQWPw==",
          "dtype": "f4"
         },
         "z": {
          "_inputArray": {
           "0": -0.08862243592739105,
           "bdata": "rn+1vQ==",
           "dtype": "f4",
           "shape": "1"
          },
          "bdata": "rn+1vQ==",
          "dtype": "f4"
         }
        },
        {
         "hovertemplate": "color=down<br>0=%{x}<br>1=%{y}<br>2=%{z}<extra></extra>",
         "legendgroup": "down",
         "marker": {
          "color": "#ab63fa",
          "symbol": "circle"
         },
         "mode": "markers",
         "name": "down",
         "scene": "scene",
         "showlegend": true,
         "type": "scatter3d",
         "x": {
          "_inputArray": {
           "0": 0.4408733546733856,
           "bdata": "J7rhPg==",
           "dtype": "f4",
           "shape": "1"
          },
          "bdata": "J7rhPg==",
          "dtype": "f4"
         },
         "y": {
          "_inputArray": {
           "0": 0.5750959515571594,
           "bdata": "fTkTPw==",
           "dtype": "f4",
           "shape": "1"
          },
          "bdata": "fTkTPw==",
          "dtype": "f4"
         },
         "z": {
          "_inputArray": {
           "0": 0.3630431294441223,
           "bdata": "yuC5Pg==",
           "dtype": "f4",
           "shape": "1"
          },
          "bdata": "yuC5Pg==",
          "dtype": "f4"
         }
        },
        {
         "hovertemplate": "color=well<br>0=%{x}<br>1=%{y}<br>2=%{z}<extra></extra>",
         "legendgroup": "well",
         "marker": {
          "color": "#FFA15A",
          "symbol": "circle"
         },
         "mode": "markers",
         "name": "well",
         "scene": "scene",
         "showlegend": true,
         "type": "scatter3d",
         "x": {
          "_inputArray": {
           "0": -0.3508571982383728,
           "bdata": "jqOzvg==",
           "dtype": "f4",
           "shape": "1"
          },
          "bdata": "jqOzvg==",
          "dtype": "f4"
         },
         "y": {
          "_inputArray": {
           "0": 0.5696011185646057,
           "bdata": "YdERPw==",
           "dtype": "f4",
           "shape": "1"
          },
          "bdata": "YdERPw==",
          "dtype": "f4"
         },
         "z": {
          "_inputArray": {
           "0": 0.06264297664165497,
           "bdata": "9kqAPQ==",
           "dtype": "f4",
           "shape": "1"
          },
          "bdata": "9kqAPQ==",
          "dtype": "f4"
         }
        },
        {
         "hovertemplate": "color=than<br>0=%{x}<br>1=%{y}<br>2=%{z}<extra></extra>",
         "legendgroup": "than",
         "marker": {
          "color": "#19d3f3",
          "symbol": "circle"
         },
         "mode": "markers",
         "name": "than",
         "scene": "scene",
         "showlegend": true,
         "type": "scatter3d",
         "x": {
          "_inputArray": {
           "0": -0.1887485384941101,
           "bdata": "TEdBvg==",
           "dtype": "f4",
           "shape": "1"
          },
          "bdata": "TEdBvg==",
          "dtype": "f4"
         },
         "y": {
          "_inputArray": {
           "0": 0.4624117314815521,
           "bdata": "O8HsPg==",
           "dtype": "f4",
           "shape": "1"
          },
          "bdata": "O8HsPg==",
          "dtype": "f4"
         },
         "z": {
          "_inputArray": {
           "0": 0.16507254540920258,
           "bdata": "xwgpPg==",
           "dtype": "f4",
           "shape": "1"
          },
          "bdata": "xwgpPg==",
          "dtype": "f4"
         }
        },
        {
         "hovertemplate": "color=only<br>0=%{x}<br>1=%{y}<br>2=%{z}<extra></extra>",
         "legendgroup": "only",
         "marker": {
          "color": "#FF6692",
          "symbol": "circle"
         },
         "mode": "markers",
         "name": "only",
         "scene": "scene",
         "showlegend": true,
         "type": "scatter3d",
         "x": {
          "_inputArray": {
           "0": -0.3034490942955017,
           "bdata": "rl2bvg==",
           "dtype": "f4",
           "shape": "1"
          },
          "bdata": "rl2bvg==",
          "dtype": "f4"
         },
         "y": {
          "_inputArray": {
           "0": 0.6100573539733887,
           "bdata": "uCwcPw==",
           "dtype": "f4",
           "shape": "1"
          },
          "bdata": "uCwcPw==",
          "dtype": "f4"
         },
         "z": {
          "_inputArray": {
           "0": 0.03917902708053589,
           "bdata": "MHogPQ==",
           "dtype": "f4",
           "shape": "1"
          },
          "bdata": "MHogPQ==",
          "dtype": "f4"
         }
        },
        {
         "hovertemplate": "color=like<br>0=%{x}<br>1=%{y}<br>2=%{z}<extra></extra>",
         "legendgroup": "like",
         "marker": {
          "color": "#B6E880",
          "symbol": "circle"
         },
         "mode": "markers",
         "name": "like",
         "scene": "scene",
         "showlegend": true,
         "type": "scatter3d",
         "x": {
          "_inputArray": {
           "0": 0.07784204185009003,
           "bdata": "pmufPQ==",
           "dtype": "f4",
           "shape": "1"
          },
          "bdata": "pmufPQ==",
          "dtype": "f4"
         },
         "y": {
          "_inputArray": {
           "0": 0.3607940971851349,
           "bdata": "Abq4Pg==",
           "dtype": "f4",
           "shape": "1"
          },
          "bdata": "Abq4Pg==",
          "dtype": "f4"
         },
         "z": {
          "_inputArray": {
           "0": 0.24696215987205505,
           "bdata": "puN8Pg==",
           "dtype": "f4",
           "shape": "1"
          },
          "bdata": "puN8Pg==",
          "dtype": "f4"
         }
        },
        {
         "hovertemplate": "color=jon<br>0=%{x}<br>1=%{y}<br>2=%{z}<extra></extra>",
         "legendgroup": "jon",
         "marker": {
          "color": "#FF97FF",
          "symbol": "circle"
         },
         "mode": "markers",
         "name": "jon",
         "scene": "scene",
         "showlegend": true,
         "type": "scatter3d",
         "x": {
          "_inputArray": {
           "0": -0.05901249498128891,
           "bdata": "FrdxvQ==",
           "dtype": "f4",
           "shape": "1"
          },
          "bdata": "FrdxvQ==",
          "dtype": "f4"
         },
         "y": {
          "_inputArray": {
           "0": 0.4038119614124298,
           "bdata": "ccDOPg==",
           "dtype": "f4",
           "shape": "1"
          },
          "bdata": "ccDOPg==",
          "dtype": "f4"
         },
         "z": {
          "_inputArray": {
           "0": 0.24437355995178223,
           "bdata": "ED16Pg==",
           "dtype": "f4",
           "shape": "1"
          },
          "bdata": "ED16Pg==",
          "dtype": "f4"
         }
        },
        {
         "hovertemplate": "color=some<br>0=%{x}<br>1=%{y}<br>2=%{z}<extra></extra>",
         "legendgroup": "some",
         "marker": {
          "color": "#FECB52",
          "symbol": "circle"
         },
         "mode": "markers",
         "name": "some",
         "scene": "scene",
         "showlegend": true,
         "type": "scatter3d",
         "x": {
          "_inputArray": {
           "0": -0.14525367319583893,
           "bdata": "Yb0Uvg==",
           "dtype": "f4",
           "shape": "1"
          },
          "bdata": "Yb0Uvg==",
          "dtype": "f4"
         },
         "y": {
          "_inputArray": {
           "0": 0.5246452689170837,
           "bdata": "J08GPw==",
           "dtype": "f4",
           "shape": "1"
          },
          "bdata": "J08GPw==",
          "dtype": "f4"
         },
         "z": {
          "_inputArray": {
           "0": -0.13162030279636383,
           "bdata": "eccGvg==",
           "dtype": "f4",
           "shape": "1"
          },
          "bdata": "eccGvg==",
          "dtype": "f4"
         }
        },
        {
         "hovertemplate": "color=father<br>0=%{x}<br>1=%{y}<br>2=%{z}<extra></extra>",
         "legendgroup": "father",
         "marker": {
          "color": "#636efa",
          "symbol": "circle"
         },
         "mode": "markers",
         "name": "father",
         "scene": "scene",
         "showlegend": true,
         "type": "scatter3d",
         "x": {
          "_inputArray": {
           "0": -0.47026512026786804,
           "bdata": "l8bwvg==",
           "dtype": "f4",
           "shape": "1"
          },
          "bdata": "l8bwvg==",
          "dtype": "f4"
         },
         "y": {
          "_inputArray": {
           "0": 0.6374990940093994,
           "bdata": "JDMjPw==",
           "dtype": "f4",
           "shape": "1"
          },
          "bdata": "JDMjPw==",
          "dtype": "f4"
         },
         "z": {
          "_inputArray": {
           "0": 0.1736096888780594,
           "bdata": "vcYxPg==",
           "dtype": "f4",
           "shape": "1"
          },
          "bdata": "vcYxPg==",
          "dtype": "f4"
         }
        },
        {
         "hovertemplate": "color=old<br>0=%{x}<br>1=%{y}<br>2=%{z}<extra></extra>",
         "legendgroup": "old",
         "marker": {
          "color": "#EF553B",
          "symbol": "circle"
         },
         "mode": "markers",
         "name": "old",
         "scene": "scene",
         "showlegend": true,
         "type": "scatter3d",
         "x": {
          "_inputArray": {
           "0": -0.16308534145355225,
           "bdata": "2P8mvg==",
           "dtype": "f4",
           "shape": "1"
          },
          "bdata": "2P8mvg==",
          "dtype": "f4"
         },
         "y": {
          "_inputArray": {
           "0": 0.39792507886886597,
           "bdata": "1rzLPg==",
           "dtype": "f4",
           "shape": "1"
          },
          "bdata": "1rzLPg==",
          "dtype": "f4"
         },
         "z": {
          "_inputArray": {
           "0": -0.015121370553970337,
           "bdata": "oL93vA==",
           "dtype": "f4",
           "shape": "1"
          },
          "bdata": "oL93vA==",
          "dtype": "f4"
         }
        },
        {
         "hovertemplate": "color=hand<br>0=%{x}<br>1=%{y}<br>2=%{z}<extra></extra>",
         "legendgroup": "hand",
         "marker": {
          "color": "#00cc96",
          "symbol": "circle"
         },
         "mode": "markers",
         "name": "hand",
         "scene": "scene",
         "showlegend": true,
         "type": "scatter3d",
         "x": {
          "_inputArray": {
           "0": 0.04846806824207306,
           "bdata": "dIZGPQ==",
           "dtype": "f4",
           "shape": "1"
          },
          "bdata": "dIZGPQ==",
          "dtype": "f4"
         },
         "y": {
          "_inputArray": {
           "0": 0.5078456997871399,
           "bdata": "LQICPw==",
           "dtype": "f4",
           "shape": "1"
          },
          "bdata": "LQICPw==",
          "dtype": "f4"
         },
         "z": {
          "_inputArray": {
           "0": 0.4772828221321106,
           "bdata": "al70Pg==",
           "dtype": "f4",
           "shape": "1"
          },
          "bdata": "al70Pg==",
          "dtype": "f4"
         }
        },
        {
         "hovertemplate": "color=even<br>0=%{x}<br>1=%{y}<br>2=%{z}<extra></extra>",
         "legendgroup": "even",
         "marker": {
          "color": "#ab63fa",
          "symbol": "circle"
         },
         "mode": "markers",
         "name": "even",
         "scene": "scene",
         "showlegend": true,
         "type": "scatter3d",
         "x": {
          "_inputArray": {
           "0": -0.16917908191680908,
           "bdata": "SD0tvg==",
           "dtype": "f4",
           "shape": "1"
          },
          "bdata": "SD0tvg==",
          "dtype": "f4"
         },
         "y": {
          "_inputArray": {
           "0": 0.5572254061698914,
           "bdata": "U6YOPw==",
           "dtype": "f4",
           "shape": "1"
          },
          "bdata": "U6YOPw==",
          "dtype": "f4"
         },
         "z": {
          "_inputArray": {
           "0": 0.07786653935909271,
           "bdata": "fnifPQ==",
           "dtype": "f4",
           "shape": "1"
          },
          "bdata": "fnifPQ==",
          "dtype": "f4"
         }
        },
        {
         "hovertemplate": "color=too<br>0=%{x}<br>1=%{y}<br>2=%{z}<extra></extra>",
         "legendgroup": "too",
         "marker": {
          "color": "#FFA15A",
          "symbol": "circle"
         },
         "mode": "markers",
         "name": "too",
         "scene": "scene",
         "showlegend": true,
         "type": "scatter3d",
         "x": {
          "_inputArray": {
           "0": -0.2371087670326233,
           "bdata": "pMxyvg==",
           "dtype": "f4",
           "shape": "1"
          },
          "bdata": "pMxyvg==",
          "dtype": "f4"
         },
         "y": {
          "_inputArray": {
           "0": 0.47812747955322266,
           "bdata": "IM30Pg==",
           "dtype": "f4",
           "shape": "1"
          },
          "bdata": "IM30Pg==",
          "dtype": "f4"
         },
         "z": {
          "_inputArray": {
           "0": 0.2117418646812439,
           "bdata": "3NJYPg==",
           "dtype": "f4",
           "shape": "1"
          },
          "bdata": "3NJYPg==",
          "dtype": "f4"
         }
        },
        {
         "hovertemplate": "color=tyrion<br>0=%{x}<br>1=%{y}<br>2=%{z}<extra></extra>",
         "legendgroup": "tyrion",
         "marker": {
          "color": "#19d3f3",
          "symbol": "circle"
         },
         "mode": "markers",
         "name": "tyrion",
         "scene": "scene",
         "showlegend": true,
         "type": "scatter3d",
         "x": {
          "_inputArray": {
           "0": -0.1420602649450302,
           "bdata": "P3gRvg==",
           "dtype": "f4",
           "shape": "1"
          },
          "bdata": "P3gRvg==",
          "dtype": "f4"
         },
         "y": {
          "_inputArray": {
           "0": 0.2942717671394348,
           "bdata": "yqqWPg==",
           "dtype": "f4",
           "shape": "1"
          },
          "bdata": "yqqWPg==",
          "dtype": "f4"
         },
         "z": {
          "_inputArray": {
           "0": 0.36917048692703247,
           "bdata": "6gO9Pg==",
           "dtype": "f4",
           "shape": "1"
          },
          "bdata": "6gO9Pg==",
          "dtype": "f4"
         }
        },
        {
         "hovertemplate": "color=before<br>0=%{x}<br>1=%{y}<br>2=%{z}<extra></extra>",
         "legendgroup": "before",
         "marker": {
          "color": "#FF6692",
          "symbol": "circle"
         },
         "mode": "markers",
         "name": "before",
         "scene": "scene",
         "showlegend": true,
         "type": "scatter3d",
         "x": {
          "_inputArray": {
           "0": -0.12147386372089386,
           "bdata": "Ssf4vQ==",
           "dtype": "f4",
           "shape": "1"
          },
          "bdata": "Ssf4vQ==",
          "dtype": "f4"
         },
         "y": {
          "_inputArray": {
           "0": 0.6744554042816162,
           "bdata": "HKksPw==",
           "dtype": "f4",
           "shape": "1"
          },
          "bdata": "HKksPw==",
          "dtype": "f4"
         },
         "z": {
          "_inputArray": {
           "0": 0.260219931602478,
           "bdata": "jDuFPg==",
           "dtype": "f4",
           "shape": "1"
          },
          "bdata": "jDuFPg==",
          "dtype": "f4"
         }
        },
        {
         "hovertemplate": "color=never<br>0=%{x}<br>1=%{y}<br>2=%{z}<extra></extra>",
         "legendgroup": "never",
         "marker": {
          "color": "#B6E880",
          "symbol": "circle"
         },
         "mode": "markers",
         "name": "never",
         "scene": "scene",
         "showlegend": true,
         "type": "scatter3d",
         "x": {
          "_inputArray": {
           "0": -0.47400328516960144,
           "bdata": "j7Dyvg==",
           "dtype": "f4",
           "shape": "1"
          },
          "bdata": "j7Dyvg==",
          "dtype": "f4"
         },
         "y": {
          "_inputArray": {
           "0": 0.5569603443145752,
           "bdata": "9JQOPw==",
           "dtype": "f4",
           "shape": "1"
          },
          "bdata": "9JQOPw==",
          "dtype": "f4"
         },
         "z": {
          "_inputArray": {
           "0": 0.2423142045736313,
           "bdata": "NyF4Pg==",
           "dtype": "f4",
           "shape": "1"
          },
          "bdata": "NyF4Pg==",
          "dtype": "f4"
         }
        },
        {
         "hovertemplate": "color=an<br>0=%{x}<br>1=%{y}<br>2=%{z}<extra></extra>",
         "legendgroup": "an",
         "marker": {
          "color": "#FF97FF",
          "symbol": "circle"
         },
         "mode": "markers",
         "name": "an",
         "scene": "scene",
         "showlegend": true,
         "type": "scatter3d",
         "x": {
          "_inputArray": {
           "0": -0.0373750701546669,
           "bdata": "mhYZvQ==",
           "dtype": "f4",
           "shape": "1"
          },
          "bdata": "mhYZvQ==",
          "dtype": "f4"
         },
         "y": {
          "_inputArray": {
           "0": 0.36320000886917114,
           "bdata": "WvW5Pg==",
           "dtype": "f4",
           "shape": "1"
          },
          "bdata": "WvW5Pg==",
          "dtype": "f4"
         },
         "z": {
          "_inputArray": {
           "0": 0.08864327520132065,
           "bdata": "m4q1PQ==",
           "dtype": "f4",
           "shape": "1"
          },
          "bdata": "m4q1PQ==",
          "dtype": "f4"
         }
        },
        {
         "hovertemplate": "color=off<br>0=%{x}<br>1=%{y}<br>2=%{z}<extra></extra>",
         "legendgroup": "off",
         "marker": {
          "color": "#FECB52",
          "symbol": "circle"
         },
         "mode": "markers",
         "name": "off",
         "scene": "scene",
         "showlegend": true,
         "type": "scatter3d",
         "x": {
          "_inputArray": {
           "0": 0.2981298565864563,
           "bdata": "eqSYPg==",
           "dtype": "f4",
           "shape": "1"
          },
          "bdata": "eqSYPg==",
          "dtype": "f4"
         },
         "y": {
          "_inputArray": {
           "0": 0.4348995089530945,
           "bdata": "JqvePg==",
           "dtype": "f4",
           "shape": "1"
          },
          "bdata": "JqvePg==",
          "dtype": "f4"
         },
         "z": {
          "_inputArray": {
           "0": 0.4221460223197937,
           "bdata": "hiPYPg==",
           "dtype": "f4",
           "shape": "1"
          },
          "bdata": "hiPYPg==",
          "dtype": "f4"
         }
        },
        {
         "hovertemplate": "color=see<br>0=%{x}<br>1=%{y}<br>2=%{z}<extra></extra>",
         "legendgroup": "see",
         "marker": {
          "color": "#636efa",
          "symbol": "circle"
         },
         "mode": "markers",
         "name": "see",
         "scene": "scene",
         "showlegend": true,
         "type": "scatter3d",
         "x": {
          "_inputArray": {
           "0": -0.1584746241569519,
           "bdata": "LEcivg==",
           "dtype": "f4",
           "shape": "1"
          },
          "bdata": "LEcivg==",
          "dtype": "f4"
         },
         "y": {
          "_inputArray": {
           "0": 0.6525521278381348,
           "bdata": "qA0nPw==",
           "dtype": "f4",
           "shape": "1"
          },
          "bdata": "qA0nPw==",
          "dtype": "f4"
         },
         "z": {
          "_inputArray": {
           "0": 0.358320415019989,
           "bdata": "xnW3Pg==",
           "dtype": "f4",
           "shape": "1"
          },
          "bdata": "xnW3Pg==",
          "dtype": "f4"
         }
        },
        {
         "hovertemplate": "color=know<br>0=%{x}<br>1=%{y}<br>2=%{z}<extra></extra>",
         "legendgroup": "know",
         "marker": {
          "color": "#EF553B",
          "symbol": "circle"
         },
         "mode": "markers",
         "name": "know",
         "scene": "scene",
         "showlegend": true,
         "type": "scatter3d",
         "x": {
          "_inputArray": {
           "0": -0.5575472712516785,
           "bdata": "a7sOvw==",
           "dtype": "f4",
           "shape": "1"
          },
          "bdata": "a7sOvw==",
          "dtype": "f4"
         },
         "y": {
          "_inputArray": {
           "0": 0.5658146739006042,
           "bdata": "O9kQPw==",
           "dtype": "f4",
           "shape": "1"
          },
          "bdata": "O9kQPw==",
          "dtype": "f4"
         },
         "z": {
          "_inputArray": {
           "0": 0.21361324191093445,
           "bdata": "br1aPg==",
           "dtype": "f4",
           "shape": "1"
          },
          "bdata": "br1aPg==",
          "dtype": "f4"
         }
        },
        {
         "hovertemplate": "color=into<br>0=%{x}<br>1=%{y}<br>2=%{z}<extra></extra>",
         "legendgroup": "into",
         "marker": {
          "color": "#00cc96",
          "symbol": "circle"
         },
         "mode": "markers",
         "name": "into",
         "scene": "scene",
         "showlegend": true,
         "type": "scatter3d",
         "x": {
          "_inputArray": {
           "0": 0.3833836019039154,
           "bdata": "20rEPg==",
           "dtype": "f4",
           "shape": "1"
          },
          "bdata": "20rEPg==",
          "dtype": "f4"
         },
         "y": {
          "_inputArray": {
           "0": 0.40114521980285645,
           "bdata": "6GLNPg==",
           "dtype": "f4",
           "shape": "1"
          },
          "bdata": "6GLNPg==",
          "dtype": "f4"
         },
         "z": {
          "_inputArray": {
           "0": 0.3773440718650818,
           "bdata": "PjPBPg==",
           "dtype": "f4",
           "shape": "1"
          },
          "bdata": "PjPBPg==",
          "dtype": "f4"
         }
        },
        {
         "hovertemplate": "color=made<br>0=%{x}<br>1=%{y}<br>2=%{z}<extra></extra>",
         "legendgroup": "made",
         "marker": {
          "color": "#ab63fa",
          "symbol": "circle"
         },
         "mode": "markers",
         "name": "made",
         "scene": "scene",
         "showlegend": true,
         "type": "scatter3d",
         "x": {
          "_inputArray": {
           "0": -0.05062645673751831,
           "bdata": "sF1PvQ==",
           "dtype": "f4",
           "shape": "1"
          },
          "bdata": "sF1PvQ==",
          "dtype": "f4"
         },
         "y": {
          "_inputArray": {
           "0": 0.3629286587238312,
           "bdata": "ydG5Pg==",
           "dtype": "f4",
           "shape": "1"
          },
          "bdata": "ydG5Pg==",
          "dtype": "f4"
         },
         "z": {
          "_inputArray": {
           "0": 0.3769596815109253,
           "bdata": "3ADBPg==",
           "dtype": "f4",
           "shape": "1"
          },
          "bdata": "3ADBPg==",
          "dtype": "f4"
         }
        },
        {
         "hovertemplate": "color=now<br>0=%{x}<br>1=%{y}<br>2=%{z}<extra></extra>",
         "legendgroup": "now",
         "marker": {
          "color": "#FFA15A",
          "symbol": "circle"
         },
         "mode": "markers",
         "name": "now",
         "scene": "scene",
         "showlegend": true,
         "type": "scatter3d",
         "x": {
          "_inputArray": {
           "0": -0.3421560525894165,
           "bdata": "FC+vvg==",
           "dtype": "f4",
           "shape": "1"
          },
          "bdata": "FC+vvg==",
          "dtype": "f4"
         },
         "y": {
          "_inputArray": {
           "0": 0.6773529648780823,
           "bdata": "AWctPw==",
           "dtype": "f4",
           "shape": "1"
          },
          "bdata": "AWctPw==",
          "dtype": "f4"
         },
         "z": {
          "_inputArray": {
           "0": 0.18640491366386414,
           "bdata": "7uA+Pg==",
           "dtype": "f4",
           "shape": "1"
          },
          "bdata": "7uA+Pg==",
          "dtype": "f4"
         }
        },
        {
         "hovertemplate": "color=eyes<br>0=%{x}<br>1=%{y}<br>2=%{z}<extra></extra>",
         "legendgroup": "eyes",
         "marker": {
          "color": "#19d3f3",
          "symbol": "circle"
         },
         "mode": "markers",
         "name": "eyes",
         "scene": "scene",
         "showlegend": true,
         "type": "scatter3d",
         "x": {
          "_inputArray": {
           "0": 0.16257572174072266,
           "bdata": "QHomPg==",
           "dtype": "f4",
           "shape": "1"
          },
          "bdata": "QHomPg==",
          "dtype": "f4"
         },
         "y": {
          "_inputArray": {
           "0": 0.49317628145217896,
           "bdata": "moH8Pg==",
           "dtype": "f4",
           "shape": "1"
          },
          "bdata": "moH8Pg==",
          "dtype": "f4"
         },
         "z": {
          "_inputArray": {
           "0": 0.3726620078086853,
           "bdata": "js2+Pg==",
           "dtype": "f4",
           "shape": "1"
          },
          "bdata": "js2+Pg==",
          "dtype": "f4"
         }
        },
        {
         "hovertemplate": "color=black<br>0=%{x}<br>1=%{y}<br>2=%{z}<extra></extra>",
         "legendgroup": "black",
         "marker": {
          "color": "#FF6692",
          "symbol": "circle"
         },
         "mode": "markers",
         "name": "black",
         "scene": "scene",
         "showlegend": true,
         "type": "scatter3d",
         "x": {
          "_inputArray": {
           "0": 0.387153297662735,
           "bdata": "9TjGPg==",
           "dtype": "f4",
           "shape": "1"
          },
          "bdata": "9TjGPg==",
          "dtype": "f4"
         },
         "y": {
          "_inputArray": {
           "0": 0.3606523275375366,
           "bdata": "bKe4Pg==",
           "dtype": "f4",
           "shape": "1"
          },
          "bdata": "bKe4Pg==",
          "dtype": "f4"
         },
         "z": {
          "_inputArray": {
           "0": -0.0631607323884964,
           "bdata": "alqBvQ==",
           "dtype": "f4",
           "shape": "1"
          },
          "bdata": "alqBvQ==",
          "dtype": "f4"
         }
        },
        {
         "hovertemplate": "color=told<br>0=%{x}<br>1=%{y}<br>2=%{z}<extra></extra>",
         "legendgroup": "told",
         "marker": {
          "color": "#B6E880",
          "symbol": "circle"
         },
         "mode": "markers",
         "name": "told",
         "scene": "scene",
         "showlegend": true,
         "type": "scatter3d",
         "x": {
          "_inputArray": {
           "0": -0.4693324565887451,
           "bdata": "WEzwvg==",
           "dtype": "f4",
           "shape": "1"
          },
          "bdata": "WEzwvg==",
          "dtype": "f4"
         },
         "y": {
          "_inputArray": {
           "0": 0.5556125044822693,
           "bdata": "nzwOPw==",
           "dtype": "f4",
           "shape": "1"
          },
          "bdata": "nzwOPw==",
          "dtype": "f4"
         },
         "z": {
          "_inputArray": {
           "0": 0.46486783027648926,
           "bdata": "KAPuPg==",
           "dtype": "f4",
           "shape": "1"
          },
          "bdata": "KAPuPg==",
          "dtype": "f4"
         }
        },
        {
         "hovertemplate": "color=lady<br>0=%{x}<br>1=%{y}<br>2=%{z}<extra></extra>",
         "legendgroup": "lady",
         "marker": {
          "color": "#FF97FF",
          "symbol": "circle"
         },
         "mode": "markers",
         "name": "lady",
         "scene": "scene",
         "showlegend": true,
         "type": "scatter3d",
         "x": {
          "_inputArray": {
           "0": -0.5394588708877563,
           "bdata": "+hkKvw==",
           "dtype": "f4",
           "shape": "1"
          },
          "bdata": "+hkKvw==",
          "dtype": "f4"
         },
         "y": {
          "_inputArray": {
           "0": 0.36274129152297974,
           "bdata": "Orm5Pg==",
           "dtype": "f4",
           "shape": "1"
          },
          "bdata": "Orm5Pg==",
          "dtype": "f4"
         },
         "z": {
          "_inputArray": {
           "0": 0.16815868020057678,
           "bdata": "yjEsPg==",
           "dtype": "f4",
           "shape": "1"
          },
          "bdata": "yjEsPg==",
          "dtype": "f4"
         }
        },
        {
         "hovertemplate": "color=thought<br>0=%{x}<br>1=%{y}<br>2=%{z}<extra></extra>",
         "legendgroup": "thought",
         "marker": {
          "color": "#FECB52",
          "symbol": "circle"
         },
         "mode": "markers",
         "name": "thought",
         "scene": "scene",
         "showlegend": true,
         "type": "scatter3d",
         "x": {
          "_inputArray": {
           "0": -0.3453044295310974,
           "bdata": "vsuwvg==",
           "dtype": "f4",
           "shape": "1"
          },
          "bdata": "vsuwvg==",
          "dtype": "f4"
         },
         "y": {
          "_inputArray": {
           "0": 0.5783578157424927,
           "bdata": "Qg8UPw==",
           "dtype": "f4",
           "shape": "1"
          },
          "bdata": "Qg8UPw==",
          "dtype": "f4"
         },
         "z": {
          "_inputArray": {
           "0": 0.5094567537307739,
           "bdata": "wmsCPw==",
           "dtype": "f4",
           "shape": "1"
          },
          "bdata": "wmsCPw==",
          "dtype": "f4"
         }
        },
        {
         "hovertemplate": "color=time<br>0=%{x}<br>1=%{y}<br>2=%{z}<extra></extra>",
         "legendgroup": "time",
         "marker": {
          "color": "#636efa",
          "symbol": "circle"
         },
         "mode": "markers",
         "name": "time",
         "scene": "scene",
         "showlegend": true,
         "type": "scatter3d",
         "x": {
          "_inputArray": {
           "0": -0.0824015811085701,
           "bdata": "KcKovQ==",
           "dtype": "f4",
           "shape": "1"
          },
          "bdata": "KcKovQ==",
          "dtype": "f4"
         },
         "y": {
          "_inputArray": {
           "0": 0.6877775192260742,
           "bdata": "MBIwPw==",
           "dtype": "f4",
           "shape": "1"
          },
          "bdata": "MBIwPw==",
          "dtype": "f4"
         },
         "z": {
          "_inputArray": {
           "0": 0.32640621066093445,
           "bdata": "tx6nPg==",
           "dtype": "f4",
           "shape": "1"
          },
          "bdata": "tx6nPg==",
          "dtype": "f4"
         }
        },
        {
         "hovertemplate": "color=then<br>0=%{x}<br>1=%{y}<br>2=%{z}<extra></extra>",
         "legendgroup": "then",
         "marker": {
          "color": "#EF553B",
          "symbol": "circle"
         },
         "mode": "markers",
         "name": "then",
         "scene": "scene",
         "showlegend": true,
         "type": "scatter3d",
         "x": {
          "_inputArray": {
           "0": 0.08336447179317474,
           "bdata": "/rqqPQ==",
           "dtype": "f4",
           "shape": "1"
          },
          "bdata": "/rqqPQ==",
          "dtype": "f4"
         },
         "y": {
          "_inputArray": {
           "0": 0.5162605047225952,
           "bdata": "pikEPw==",
           "dtype": "f4",
           "shape": "1"
          },
          "bdata": "pikEPw==",
          "dtype": "f4"
         },
         "z": {
          "_inputArray": {
           "0": 0.5141388177871704,
           "bdata": "mp4DPw==",
           "dtype": "f4",
           "shape": "1"
          },
          "bdata": "mp4DPw==",
          "dtype": "f4"
         }
        },
        {
         "hovertemplate": "color=how<br>0=%{x}<br>1=%{y}<br>2=%{z}<extra></extra>",
         "legendgroup": "how",
         "marker": {
          "color": "#00cc96",
          "symbol": "circle"
         },
         "mode": "markers",
         "name": "how",
         "scene": "scene",
         "showlegend": true,
         "type": "scatter3d",
         "x": {
          "_inputArray": {
           "0": -0.38078537583351135,
           "bdata": "TfbCvg==",
           "dtype": "f4",
           "shape": "1"
          },
          "bdata": "TfbCvg==",
          "dtype": "f4"
         },
         "y": {
          "_inputArray": {
           "0": 0.5346376895904541,
           "bdata": "BN4IPw==",
           "dtype": "f4",
           "shape": "1"
          },
          "bdata": "BN4IPw==",
          "dtype": "f4"
         },
         "z": {
          "_inputArray": {
           "0": 0.21846650540828705,
           "bdata": "r7VfPg==",
           "dtype": "f4",
           "shape": "1"
          },
          "bdata": "r7VfPg==",
          "dtype": "f4"
         }
        },
        {
         "hovertemplate": "color=long<br>0=%{x}<br>1=%{y}<br>2=%{z}<extra></extra>",
         "legendgroup": "long",
         "marker": {
          "color": "#ab63fa",
          "symbol": "circle"
         },
         "mode": "markers",
         "name": "long",
         "scene": "scene",
         "showlegend": true,
         "type": "scatter3d",
         "x": {
          "_inputArray": {
           "0": 0.1554567813873291,
           "bdata": "EDAfPg==",
           "dtype": "f4",
           "shape": "1"
          },
          "bdata": "EDAfPg==",
          "dtype": "f4"
         },
         "y": {
          "_inputArray": {
           "0": 0.53959059715271,
           "bdata": "nCIKPw==",
           "dtype": "f4",
           "shape": "1"
          },
          "bdata": "nCIKPw==",
          "dtype": "f4"
         },
         "z": {
          "_inputArray": {
           "0": 0.06950606405735016,
           "bdata": "MlmOPQ==",
           "dtype": "f4",
           "shape": "1"
          },
          "bdata": "MlmOPQ==",
          "dtype": "f4"
         }
        },
        {
         "hovertemplate": "color=has<br>0=%{x}<br>1=%{y}<br>2=%{z}<extra></extra>",
         "legendgroup": "has",
         "marker": {
          "color": "#FFA15A",
          "symbol": "circle"
         },
         "mode": "markers",
         "name": "has",
         "scene": "scene",
         "showlegend": true,
         "type": "scatter3d",
         "x": {
          "_inputArray": {
           "0": -0.5490626096725464,
           "bdata": "Xo8Mvw==",
           "dtype": "f4",
           "shape": "1"
          },
          "bdata": "Xo8Mvw==",
          "dtype": "f4"
         },
         "y": {
          "_inputArray": {
           "0": 0.4839780330657959,
           "bdata": "+Mv3Pg==",
           "dtype": "f4",
           "shape": "1"
          },
          "bdata": "+Mv3Pg==",
          "dtype": "f4"
         },
         "z": {
          "_inputArray": {
           "0": 0.058324024081230164,
           "bdata": "LOVuPQ==",
           "dtype": "f4",
           "shape": "1"
          },
          "bdata": "LOVuPQ==",
          "dtype": "f4"
         }
        },
        {
         "hovertemplate": "color=can<br>0=%{x}<br>1=%{y}<br>2=%{z}<extra></extra>",
         "legendgroup": "can",
         "marker": {
          "color": "#19d3f3",
          "symbol": "circle"
         },
         "mode": "markers",
         "name": "can",
         "scene": "scene",
         "showlegend": true,
         "type": "scatter3d",
         "x": {
          "_inputArray": {
           "0": -0.4087408483028412,
           "bdata": "e0bRvg==",
           "dtype": "f4",
           "shape": "1"
          },
          "bdata": "e0bRvg==",
          "dtype": "f4"
         },
         "y": {
          "_inputArray": {
           "0": 0.4969511330127716,
           "bdata": "YXD+Pg==",
           "dtype": "f4",
           "shape": "1"
          },
          "bdata": "YXD+Pg==",
          "dtype": "f4"
         },
         "z": {
          "_inputArray": {
           "0": 0.19038908183574677,
           "bdata": "W/VCPg==",
           "dtype": "f4",
           "shape": "1"
          },
          "bdata": "W/VCPg==",
          "dtype": "f4"
         }
        },
        {
         "hovertemplate": "color=might<br>0=%{x}<br>1=%{y}<br>2=%{z}<extra></extra>",
         "legendgroup": "might",
         "marker": {
          "color": "#FF6692",
          "symbol": "circle"
         },
         "mode": "markers",
         "name": "might",
         "scene": "scene",
         "showlegend": true,
         "type": "scatter3d",
         "x": {
          "_inputArray": {
           "0": -0.41527634859085083,
           "bdata": "Gp/Uvg==",
           "dtype": "f4",
           "shape": "1"
          },
          "bdata": "Gp/Uvg==",
          "dtype": "f4"
         },
         "y": {
          "_inputArray": {
           "0": 0.46640723943710327,
           "bdata": "7szuPg==",
           "dtype": "f4",
           "shape": "1"
          },
          "bdata": "7szuPg==",
          "dtype": "f4"
         },
         "z": {
          "_inputArray": {
           "0": 0.21327455341815948,
           "bdata": "pWRaPg==",
           "dtype": "f4",
           "shape": "1"
          },
          "bdata": "pWRaPg==",
          "dtype": "f4"
         }
        },
        {
         "hovertemplate": "color=us<br>0=%{x}<br>1=%{y}<br>2=%{z}<extra></extra>",
         "legendgroup": "us",
         "marker": {
          "color": "#B6E880",
          "symbol": "circle"
         },
         "mode": "markers",
         "name": "us",
         "scene": "scene",
         "showlegend": true,
         "type": "scatter3d",
         "x": {
          "_inputArray": {
           "0": -0.439980685710907,
           "bdata": "JkXhvg==",
           "dtype": "f4",
           "shape": "1"
          },
          "bdata": "JkXhvg==",
          "dtype": "f4"
         },
         "y": {
          "_inputArray": {
           "0": 0.7237685918807983,
           "bdata": "5kg5Pw==",
           "dtype": "f4",
           "shape": "1"
          },
          "bdata": "5kg5Pw==",
          "dtype": "f4"
         },
         "z": {
          "_inputArray": {
           "0": -0.060946986079216,
           "bdata": "jKN5vQ==",
           "dtype": "f4",
           "shape": "1"
          },
          "bdata": "jKN5vQ==",
          "dtype": "f4"
         }
        },
        {
         "hovertemplate": "color=come<br>0=%{x}<br>1=%{y}<br>2=%{z}<extra></extra>",
         "legendgroup": "come",
         "marker": {
          "color": "#FF97FF",
          "symbol": "circle"
         },
         "mode": "markers",
         "name": "come",
         "scene": "scene",
         "showlegend": true,
         "type": "scatter3d",
         "x": {
          "_inputArray": {
           "0": -0.33770790696144104,
           "bdata": "Deisvg==",
           "dtype": "f4",
           "shape": "1"
          },
          "bdata": "Deisvg==",
          "dtype": "f4"
         },
         "y": {
          "_inputArray": {
           "0": 0.7938145995140076,
           "bdata": "bzdLPw==",
           "dtype": "f4",
           "shape": "1"
          },
          "bdata": "bzdLPw==",
          "dtype": "f4"
         },
         "z": {
          "_inputArray": {
           "0": 0.23244118690490723,
           "bdata": "EAVuPg==",
           "dtype": "f4",
           "shape": "1"
          },
          "bdata": "EAVuPg==",
          "dtype": "f4"
         }
        },
        {
         "hovertemplate": "color=where<br>0=%{x}<br>1=%{y}<br>2=%{z}<extra></extra>",
         "legendgroup": "where",
         "marker": {
          "color": "#FECB52",
          "symbol": "circle"
         },
         "mode": "markers",
         "name": "where",
         "scene": "scene",
         "showlegend": true,
         "type": "scatter3d",
         "x": {
          "_inputArray": {
           "0": 0.14321786165237427,
           "bdata": "tKcSPg==",
           "dtype": "f4",
           "shape": "1"
          },
          "bdata": "tKcSPg==",
          "dtype": "f4"
         },
         "y": {
          "_inputArray": {
           "0": 0.6289415955543518,
           "bdata": "UQIhPw==",
           "dtype": "f4",
           "shape": "1"
          },
          "bdata": "UQIhPw==",
          "dtype": "f4"
         },
         "z": {
          "_inputArray": {
           "0": 0.07599404454231262,
           "bdata": "xKKbPQ==",
           "dtype": "f4",
           "shape": "1"
          },
          "bdata": "xKKbPQ==",
          "dtype": "f4"
         }
        }
       ],
       "layout": {
        "autosize": true,
        "legend": {
         "title": {
          "text": "color"
         },
         "tracegroupgap": 0
        },
        "margin": {
         "t": 60
        },
        "scene": {
         "aspectmode": "auto",
         "aspectratio": {
          "x": 1.3837822259008496,
          "y": 0.7145829310588415,
          "z": 1.0112990839377
         },
         "domain": {
          "x": [
           0,
           1
          ],
          "y": [
           0,
           1
          ]
         },
         "xaxis": {
          "title": {
           "text": "0"
          },
          "type": "linear"
         },
         "yaxis": {
          "title": {
           "text": "1"
          },
          "type": "linear"
         },
         "zaxis": {
          "title": {
           "text": "2"
          },
          "type": "linear"
         }
        },
        "template": {
         "data": {
          "bar": [
           {
            "error_x": {
             "color": "#2a3f5f"
            },
            "error_y": {
             "color": "#2a3f5f"
            },
            "marker": {
             "line": {
              "color": "#E5ECF6",
              "width": 0.5
             },
             "pattern": {
              "fillmode": "overlay",
              "size": 10,
              "solidity": 0.2
             }
            },
            "type": "bar"
           }
          ],
          "barpolar": [
           {
            "marker": {
             "line": {
              "color": "#E5ECF6",
              "width": 0.5
             },
             "pattern": {
              "fillmode": "overlay",
              "size": 10,
              "solidity": 0.2
             }
            },
            "type": "barpolar"
           }
          ],
          "carpet": [
           {
            "aaxis": {
             "endlinecolor": "#2a3f5f",
             "gridcolor": "white",
             "linecolor": "white",
             "minorgridcolor": "white",
             "startlinecolor": "#2a3f5f"
            },
            "baxis": {
             "endlinecolor": "#2a3f5f",
             "gridcolor": "white",
             "linecolor": "white",
             "minorgridcolor": "white",
             "startlinecolor": "#2a3f5f"
            },
            "type": "carpet"
           }
          ],
          "choropleth": [
           {
            "colorbar": {
             "outlinewidth": 0,
             "ticks": ""
            },
            "type": "choropleth"
           }
          ],
          "contour": [
           {
            "colorbar": {
             "outlinewidth": 0,
             "ticks": ""
            },
            "colorscale": [
             [
              0,
              "#0d0887"
             ],
             [
              0.1111111111111111,
              "#46039f"
             ],
             [
              0.2222222222222222,
              "#7201a8"
             ],
             [
              0.3333333333333333,
              "#9c179e"
             ],
             [
              0.4444444444444444,
              "#bd3786"
             ],
             [
              0.5555555555555556,
              "#d8576b"
             ],
             [
              0.6666666666666666,
              "#ed7953"
             ],
             [
              0.7777777777777778,
              "#fb9f3a"
             ],
             [
              0.8888888888888888,
              "#fdca26"
             ],
             [
              1,
              "#f0f921"
             ]
            ],
            "type": "contour"
           }
          ],
          "contourcarpet": [
           {
            "colorbar": {
             "outlinewidth": 0,
             "ticks": ""
            },
            "type": "contourcarpet"
           }
          ],
          "heatmap": [
           {
            "colorbar": {
             "outlinewidth": 0,
             "ticks": ""
            },
            "colorscale": [
             [
              0,
              "#0d0887"
             ],
             [
              0.1111111111111111,
              "#46039f"
             ],
             [
              0.2222222222222222,
              "#7201a8"
             ],
             [
              0.3333333333333333,
              "#9c179e"
             ],
             [
              0.4444444444444444,
              "#bd3786"
             ],
             [
              0.5555555555555556,
              "#d8576b"
             ],
             [
              0.6666666666666666,
              "#ed7953"
             ],
             [
              0.7777777777777778,
              "#fb9f3a"
             ],
             [
              0.8888888888888888,
              "#fdca26"
             ],
             [
              1,
              "#f0f921"
             ]
            ],
            "type": "heatmap"
           }
          ],
          "histogram": [
           {
            "marker": {
             "pattern": {
              "fillmode": "overlay",
              "size": 10,
              "solidity": 0.2
             }
            },
            "type": "histogram"
           }
          ],
          "histogram2d": [
           {
            "colorbar": {
             "outlinewidth": 0,
             "ticks": ""
            },
            "colorscale": [
             [
              0,
              "#0d0887"
             ],
             [
              0.1111111111111111,
              "#46039f"
             ],
             [
              0.2222222222222222,
              "#7201a8"
             ],
             [
              0.3333333333333333,
              "#9c179e"
             ],
             [
              0.4444444444444444,
              "#bd3786"
             ],
             [
              0.5555555555555556,
              "#d8576b"
             ],
             [
              0.6666666666666666,
              "#ed7953"
             ],
             [
              0.7777777777777778,
              "#fb9f3a"
             ],
             [
              0.8888888888888888,
              "#fdca26"
             ],
             [
              1,
              "#f0f921"
             ]
            ],
            "type": "histogram2d"
           }
          ],
          "histogram2dcontour": [
           {
            "colorbar": {
             "outlinewidth": 0,
             "ticks": ""
            },
            "colorscale": [
             [
              0,
              "#0d0887"
             ],
             [
              0.1111111111111111,
              "#46039f"
             ],
             [
              0.2222222222222222,
              "#7201a8"
             ],
             [
              0.3333333333333333,
              "#9c179e"
             ],
             [
              0.4444444444444444,
              "#bd3786"
             ],
             [
              0.5555555555555556,
              "#d8576b"
             ],
             [
              0.6666666666666666,
              "#ed7953"
             ],
             [
              0.7777777777777778,
              "#fb9f3a"
             ],
             [
              0.8888888888888888,
              "#fdca26"
             ],
             [
              1,
              "#f0f921"
             ]
            ],
            "type": "histogram2dcontour"
           }
          ],
          "mesh3d": [
           {
            "colorbar": {
             "outlinewidth": 0,
             "ticks": ""
            },
            "type": "mesh3d"
           }
          ],
          "parcoords": [
           {
            "line": {
             "colorbar": {
              "outlinewidth": 0,
              "ticks": ""
             }
            },
            "type": "parcoords"
           }
          ],
          "pie": [
           {
            "automargin": true,
            "type": "pie"
           }
          ],
          "scatter": [
           {
            "fillpattern": {
             "fillmode": "overlay",
             "size": 10,
             "solidity": 0.2
            },
            "type": "scatter"
           }
          ],
          "scatter3d": [
           {
            "line": {
             "colorbar": {
              "outlinewidth": 0,
              "ticks": ""
             }
            },
            "marker": {
             "colorbar": {
              "outlinewidth": 0,
              "ticks": ""
             }
            },
            "type": "scatter3d"
           }
          ],
          "scattercarpet": [
           {
            "marker": {
             "colorbar": {
              "outlinewidth": 0,
              "ticks": ""
             }
            },
            "type": "scattercarpet"
           }
          ],
          "scattergeo": [
           {
            "marker": {
             "colorbar": {
              "outlinewidth": 0,
              "ticks": ""
             }
            },
            "type": "scattergeo"
           }
          ],
          "scattergl": [
           {
            "marker": {
             "colorbar": {
              "outlinewidth": 0,
              "ticks": ""
             }
            },
            "type": "scattergl"
           }
          ],
          "scattermap": [
           {
            "marker": {
             "colorbar": {
              "outlinewidth": 0,
              "ticks": ""
             }
            },
            "type": "scattermap"
           }
          ],
          "scattermapbox": [
           {
            "marker": {
             "colorbar": {
              "outlinewidth": 0,
              "ticks": ""
             }
            },
            "type": "scattermapbox"
           }
          ],
          "scatterpolar": [
           {
            "marker": {
             "colorbar": {
              "outlinewidth": 0,
              "ticks": ""
             }
            },
            "type": "scatterpolar"
           }
          ],
          "scatterpolargl": [
           {
            "marker": {
             "colorbar": {
              "outlinewidth": 0,
              "ticks": ""
             }
            },
            "type": "scatterpolargl"
           }
          ],
          "scatterternary": [
           {
            "marker": {
             "colorbar": {
              "outlinewidth": 0,
              "ticks": ""
             }
            },
            "type": "scatterternary"
           }
          ],
          "surface": [
           {
            "colorbar": {
             "outlinewidth": 0,
             "ticks": ""
            },
            "colorscale": [
             [
              0,
              "#0d0887"
             ],
             [
              0.1111111111111111,
              "#46039f"
             ],
             [
              0.2222222222222222,
              "#7201a8"
             ],
             [
              0.3333333333333333,
              "#9c179e"
             ],
             [
              0.4444444444444444,
              "#bd3786"
             ],
             [
              0.5555555555555556,
              "#d8576b"
             ],
             [
              0.6666666666666666,
              "#ed7953"
             ],
             [
              0.7777777777777778,
              "#fb9f3a"
             ],
             [
              0.8888888888888888,
              "#fdca26"
             ],
             [
              1,
              "#f0f921"
             ]
            ],
            "type": "surface"
           }
          ],
          "table": [
           {
            "cells": {
             "fill": {
              "color": "#EBF0F8"
             },
             "line": {
              "color": "white"
             }
            },
            "header": {
             "fill": {
              "color": "#C8D4E3"
             },
             "line": {
              "color": "white"
             }
            },
            "type": "table"
           }
          ]
         },
         "layout": {
          "annotationdefaults": {
           "arrowcolor": "#2a3f5f",
           "arrowhead": 0,
           "arrowwidth": 1
          },
          "autotypenumbers": "strict",
          "coloraxis": {
           "colorbar": {
            "outlinewidth": 0,
            "ticks": ""
           }
          },
          "colorscale": {
           "diverging": [
            [
             0,
             "#8e0152"
            ],
            [
             0.1,
             "#c51b7d"
            ],
            [
             0.2,
             "#de77ae"
            ],
            [
             0.3,
             "#f1b6da"
            ],
            [
             0.4,
             "#fde0ef"
            ],
            [
             0.5,
             "#f7f7f7"
            ],
            [
             0.6,
             "#e6f5d0"
            ],
            [
             0.7,
             "#b8e186"
            ],
            [
             0.8,
             "#7fbc41"
            ],
            [
             0.9,
             "#4d9221"
            ],
            [
             1,
             "#276419"
            ]
           ],
           "sequential": [
            [
             0,
             "#0d0887"
            ],
            [
             0.1111111111111111,
             "#46039f"
            ],
            [
             0.2222222222222222,
             "#7201a8"
            ],
            [
             0.3333333333333333,
             "#9c179e"
            ],
            [
             0.4444444444444444,
             "#bd3786"
            ],
            [
             0.5555555555555556,
             "#d8576b"
            ],
            [
             0.6666666666666666,
             "#ed7953"
            ],
            [
             0.7777777777777778,
             "#fb9f3a"
            ],
            [
             0.8888888888888888,
             "#fdca26"
            ],
            [
             1,
             "#f0f921"
            ]
           ],
           "sequentialminus": [
            [
             0,
             "#0d0887"
            ],
            [
             0.1111111111111111,
             "#46039f"
            ],
            [
             0.2222222222222222,
             "#7201a8"
            ],
            [
             0.3333333333333333,
             "#9c179e"
            ],
            [
             0.4444444444444444,
             "#bd3786"
            ],
            [
             0.5555555555555556,
             "#d8576b"
            ],
            [
             0.6666666666666666,
             "#ed7953"
            ],
            [
             0.7777777777777778,
             "#fb9f3a"
            ],
            [
             0.8888888888888888,
             "#fdca26"
            ],
            [
             1,
             "#f0f921"
            ]
           ]
          },
          "colorway": [
           "#636efa",
           "#EF553B",
           "#00cc96",
           "#ab63fa",
           "#FFA15A",
           "#19d3f3",
           "#FF6692",
           "#B6E880",
           "#FF97FF",
           "#FECB52"
          ],
          "font": {
           "color": "#2a3f5f"
          },
          "geo": {
           "bgcolor": "white",
           "lakecolor": "white",
           "landcolor": "#E5ECF6",
           "showlakes": true,
           "showland": true,
           "subunitcolor": "white"
          },
          "hoverlabel": {
           "align": "left"
          },
          "hovermode": "closest",
          "mapbox": {
           "style": "light"
          },
          "paper_bgcolor": "white",
          "plot_bgcolor": "#E5ECF6",
          "polar": {
           "angularaxis": {
            "gridcolor": "white",
            "linecolor": "white",
            "ticks": ""
           },
           "bgcolor": "#E5ECF6",
           "radialaxis": {
            "gridcolor": "white",
            "linecolor": "white",
            "ticks": ""
           }
          },
          "scene": {
           "xaxis": {
            "backgroundcolor": "#E5ECF6",
            "gridcolor": "white",
            "gridwidth": 2,
            "linecolor": "white",
            "showbackground": true,
            "ticks": "",
            "zerolinecolor": "white"
           },
           "yaxis": {
            "backgroundcolor": "#E5ECF6",
            "gridcolor": "white",
            "gridwidth": 2,
            "linecolor": "white",
            "showbackground": true,
            "ticks": "",
            "zerolinecolor": "white"
           },
           "zaxis": {
            "backgroundcolor": "#E5ECF6",
            "gridcolor": "white",
            "gridwidth": 2,
            "linecolor": "white",
            "showbackground": true,
            "ticks": "",
            "zerolinecolor": "white"
           }
          },
          "shapedefaults": {
           "line": {
            "color": "#2a3f5f"
           }
          },
          "ternary": {
           "aaxis": {
            "gridcolor": "white",
            "linecolor": "white",
            "ticks": ""
           },
           "baxis": {
            "gridcolor": "white",
            "linecolor": "white",
            "ticks": ""
           },
           "bgcolor": "#E5ECF6",
           "caxis": {
            "gridcolor": "white",
            "linecolor": "white",
            "ticks": ""
           }
          },
          "title": {
           "x": 0.05
          },
          "xaxis": {
           "automargin": true,
           "gridcolor": "white",
           "linecolor": "white",
           "ticks": "",
           "title": {
            "standoff": 15
           },
           "zerolinecolor": "white",
           "zerolinewidth": 2
          },
          "yaxis": {
           "automargin": true,
           "gridcolor": "white",
           "linecolor": "white",
           "ticks": "",
           "title": {
            "standoff": 15
           },
           "zerolinecolor": "white",
           "zerolinewidth": 2
          }
         }
        }
       }
      }
     },
     "metadata": {},
     "output_type": "display_data"
    }
   ],
   "source": [
    "import plotly.express as px\n",
    "\n",
    "# Plot\n",
    "fig = px.scatter_3d(X[:100], x=0, y=1, z=2, color=y[:100])\n",
    "fig.show()\n"
   ]
  },
  {
   "cell_type": "code",
   "execution_count": null,
   "id": "d5b3bfaa-9a90-4920-9e44-1ffc6f880a69",
   "metadata": {},
   "outputs": [],
   "source": []
  }
 ],
 "metadata": {
  "kernelspec": {
   "display_name": "Python 3 (ipykernel)",
   "language": "python",
   "name": "python3"
  },
  "language_info": {
   "codemirror_mode": {
    "name": "ipython",
    "version": 3
   },
   "file_extension": ".py",
   "mimetype": "text/x-python",
   "name": "python",
   "nbconvert_exporter": "python",
   "pygments_lexer": "ipython3",
   "version": "3.12.6"
  }
 },
 "nbformat": 4,
 "nbformat_minor": 5
}
